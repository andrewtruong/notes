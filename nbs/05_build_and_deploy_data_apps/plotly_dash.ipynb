{
 "cells": [
  {
   "cell_type": "code",
   "execution_count": null,
   "metadata": {},
   "outputs": [],
   "source": [
    "# default_exp plotly_dash"
   ]
  },
  {
   "cell_type": "code",
   "execution_count": null,
   "metadata": {},
   "outputs": [],
   "source": [
    "#hide\n",
    "from nbdev.showdoc import *"
   ]
  },
  {
   "cell_type": "markdown",
   "metadata": {},
   "source": [
    "# Plotly Dash\n",
    "> Recipes for Plotly Dash"
   ]
  },
  {
   "cell_type": "code",
   "execution_count": null,
   "metadata": {},
   "outputs": [],
   "source": [
    "#export\n",
    "from functools import wraps\n",
    "\n",
    "def dash_ctx(inputs):\n",
    "    '''\n",
    "    Provide a ctx dict to use in the dash callback system.\n",
    "    \n",
    "    For example:\n",
    "    ```python\n",
    "    import dash\n",
    "    from dash.dependencies import Input, Output, State\n",
    "\n",
    "    app = dash.Dash('app')\n",
    "\n",
    "    outputs = [Output('main-div', 'children')]\n",
    "    inputs = [Input('selector1', 'value'), Input('selector2', 'value')]\n",
    "    states = [State('selector3', 'value')]\n",
    "\n",
    "    @app.callback(outputs, inputs, states)\n",
    "    @dash_ctx(inputs + states)\n",
    "    def update(**ctx):\n",
    "        pass\n",
    "        # do something with ctx['selector1'], ctx['selector2'], ctx['selector3']\n",
    "    ```\n",
    "    '''\n",
    "    def accept_func(func):\n",
    "        @wraps(func)\n",
    "        def wrapper(*args):\n",
    "            input_names = [item.component_id for item in inputs]\n",
    "            kwargs_dict = dict(zip(input_names, args))\n",
    "            return func(**kwargs_dict)\n",
    "        return wrapper\n",
    "    return accept_func"
   ]
  },
  {
   "cell_type": "code",
   "execution_count": null,
   "metadata": {},
   "outputs": [],
   "source": [
    "#export\n",
    "def idify(name):\n",
    "    'Helper function to convert human labels to HTML ids'\n",
    "    return name.lower().replace(\" \", \"-\")"
   ]
  },
  {
   "cell_type": "markdown",
   "metadata": {},
   "source": [
    "### Component libraries\n",
    "- [Dash Core Components](https://dash.plotly.com/dash-core-components) comes with Dash\n",
    "- [Dash Bootstrap Components](https://dash-bootstrap-components.opensource.faculty.ai/) provides Bootstrap compatible components which are easier to work with if you are familiar with Bootstrap\n",
    "- Dash Custom Components are recipes built on top of DCC and DBC for convenience"
   ]
  }
 ],
 "metadata": {
  "kernelspec": {
   "display_name": "Python 3.8.8 64-bit ('fastpages': conda)",
   "name": "python388jvsc74a57bd0bab989e609fa7ae72b4d90aa019d09772e35d5f7652f4e146d62cc6a7c1dbb78"
  }
 },
 "nbformat": 4,
 "nbformat_minor": 2
}
