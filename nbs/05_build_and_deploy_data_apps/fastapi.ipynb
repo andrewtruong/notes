{
 "cells": [
  {
   "cell_type": "code",
   "execution_count": null,
   "metadata": {},
   "outputs": [],
   "source": [
    "# default_exp apps"
   ]
  },
  {
   "cell_type": "code",
   "execution_count": null,
   "metadata": {},
   "outputs": [],
   "source": [
    "#hide\n",
    "from nbdev.showdoc import * "
   ]
  },
  {
   "cell_type": "markdown",
   "metadata": {},
   "source": [
    "# FastAPI\n",
    "\n",
    "> Recipes for FastAPI"
   ]
  },
  {
   "cell_type": "markdown",
   "metadata": {},
   "source": [
    "## Basics"
   ]
  },
  {
   "cell_type": "markdown",
   "metadata": {},
   "source": [
    "### Create `app.py`"
   ]
  },
  {
   "cell_type": "code",
   "execution_count": null,
   "metadata": {},
   "outputs": [],
   "source": [
    "from fastapi import FastAPI\n",
    "\n",
    "app = FastAPI()\n",
    "\n",
    "@app.get('/')\n",
    "async def root():\n",
    "    return {'message': 'Hello World!'} "
   ]
  },
  {
   "cell_type": "markdown",
   "metadata": {},
   "source": [
    "### Add model and create an endpoint"
   ]
  },
  {
   "cell_type": "code",
   "execution_count": null,
   "metadata": {},
   "outputs": [],
   "source": [
    "from transformers import pipeline\n",
    "\n",
    "model = pipeline('sentiment-analysis')\n",
    "\n",
    "@app.get('/predict')\n",
    "async def predict(q:str):\n",
    "    return model(q)"
   ]
  },
  {
   "cell_type": "markdown",
   "metadata": {},
   "source": [
    "### Test endpoints\n",
    "- If testing in Jupyter, you will need to run this first:"
   ]
  },
  {
   "cell_type": "code",
   "execution_count": null,
   "metadata": {},
   "outputs": [],
   "source": [
    "import nest_asyncio\n",
    "nest_asyncio.apply()"
   ]
  },
  {
   "cell_type": "markdown",
   "metadata": {},
   "source": [
    "- Then test using the `TestClient`"
   ]
  },
  {
   "cell_type": "code",
   "execution_count": null,
   "metadata": {},
   "outputs": [],
   "source": [
    "from fastapi.testclient import TestClient\n",
    "\n",
    "def test_sentiment(q):\n",
    "    with TestClient(app) as client:\n",
    "        r = client.get(f'/predict?q={q}')\n",
    "        sentiment = r.json()[0]['label']\n",
    "        return sentiment\n",
    "    \n",
    "assert test_sentiment('Ice cream is delicious') == 'POSITIVE'\n",
    "assert test_sentiment('Papaya is gross') == 'NEGATIVE'"
   ]
  },
  {
   "cell_type": "markdown",
   "metadata": {},
   "source": [
    "- You can also spin up the actual server to test from the browser via jupyter:"
   ]
  },
  {
   "cell_type": "code",
   "execution_count": null,
   "metadata": {},
   "outputs": [],
   "source": [
    "import uvicorn\n",
    "uvicorn.run(app)"
   ]
  },
  {
   "cell_type": "markdown",
   "metadata": {},
   "source": [
    "- ...or shell:\n",
    "```bash\n",
    "uvicorn app:app --reload\n",
    "```"
   ]
  },
  {
   "cell_type": "markdown",
   "metadata": {},
   "source": [
    "## Deploy"
   ]
  },
  {
   "cell_type": "markdown",
   "metadata": {},
   "source": [
    "### Create docker image\n",
    "1. In `Dockerfile`:\n",
    "    ```dockerfile\n",
    "    FROM tiangolo/uvicorn-gunicorn-fastapi:python3.7\n",
    "\n",
    "    COPY ./app /app\n",
    "    ```\n",
    "\n",
    "2. Create a directory called `app` and add the `app.py` from above\n",
    "    ```bash\n",
    "    mkdir app\n",
    "    mv app.py app/app.py\n",
    "    ```\n",
    "\n",
    "3. Build the container\n",
    "    ```bash\n",
    "    docker build -t model_app\n",
    "    ```\n",
    "\n",
    "4. Test the container\n",
    "    ```bash\n",
    "    docker run -d --name my_model_app -p 80:80 model_app\n",
    "    ```"
   ]
  },
  {
   "cell_type": "markdown",
   "metadata": {},
   "source": [
    "### Deploy with Compose\n",
    "```yaml\n",
    "# docker-compose.yml\n",
    "version: 3.8\n",
    "services:\n",
    "    fastapi:\n",
    "        ports:\n",
    "            - 80:80\n",
    "```"
   ]
  },
  {
   "cell_type": "markdown",
   "metadata": {},
   "source": [
    "### Deploy with Kubernetes\n",
    "Generated from kompose\n",
    "```yaml\n",
    "# fastapi-deployment.yaml\n",
    "apiVersion: apps/v1\n",
    "kind: Deployment\n",
    "metadata:\n",
    "annotations:\n",
    "    kompose.cmd: kompose convert\n",
    "    kompose.version: 1.22.0 (955b78124)\n",
    "creationTimestamp: null\n",
    "labels:\n",
    "    io.kompose.service: fastapi\n",
    "name: fastapi\n",
    "spec:\n",
    "replicas: 1\n",
    "selector:\n",
    "    matchLabels:\n",
    "    io.kompose.service: fastapi\n",
    "strategy: {}\n",
    "template:\n",
    "    metadata:\n",
    "    annotations:\n",
    "        kompose.cmd: kompose convert\n",
    "        kompose.version: 1.22.0 (955b78124)\n",
    "    creationTimestamp: null\n",
    "    labels:\n",
    "        io.kompose.service: fastapi\n",
    "    spec:\n",
    "    containers:\n",
    "        - image: fastapi\n",
    "        name: fastapi\n",
    "        ports:\n",
    "            - containerPort: 80\n",
    "        resources: {}\n",
    "    restartPolicy: Always\n",
    "status: {}\n",
    "```\n",
    "\n",
    "```yaml\n",
    "# fastapi-service.yaml\n",
    "apiVersion: v1\n",
    "kind: Service\n",
    "metadata:\n",
    "annotations:\n",
    "    kompose.cmd: kompose convert\n",
    "    kompose.version: 1.22.0 (955b78124)\n",
    "creationTimestamp: null\n",
    "labels:\n",
    "    io.kompose.service: fastapi\n",
    "name: fastapi\n",
    "spec:\n",
    "ports:\n",
    "    - name: \"80\"\n",
    "    port: 80\n",
    "    targetPort: 80\n",
    "selector:\n",
    "    io.kompose.service: fastapi\n",
    "status:\n",
    "loadBalancer: {}\n",
    "\n",
    "```"
   ]
  },
  {
   "cell_type": "code",
   "execution_count": null,
   "metadata": {},
   "outputs": [],
   "source": []
  },
  {
   "cell_type": "code",
   "execution_count": null,
   "metadata": {},
   "outputs": [],
   "source": []
  }
 ],
 "metadata": {
  "kernelspec": {
   "display_name": "Python 3.8.8 64-bit ('fastpages': conda)",
   "name": "python388jvsc74a57bd0bab989e609fa7ae72b4d90aa019d09772e35d5f7652f4e146d62cc6a7c1dbb78"
  }
 },
 "nbformat": 4,
 "nbformat_minor": 2
}
