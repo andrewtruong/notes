{
 "cells": [
  {
   "cell_type": "markdown",
   "metadata": {},
   "source": [
    "# Linux Misc\n",
    "\n",
    "> Other stuff about Linux"
   ]
  },
  {
   "cell_type": "markdown",
   "metadata": {},
   "source": [
    "## Conda Environments\n",
    "\n",
    "### Use [miniconda](https://docs.conda.io/en/latest/miniconda.html) for minimal install\n",
    "- Download the latest version\n",
    "- Remember to check keys before installing!\n",
    "\n",
    "### Use [mamba](https://github.com/mamba-org/mamba) for faster package management\n",
    "- Mamba supports parallel downloading and uses `libsolv` for faster dependency solving\n",
    "- Install with:\n",
    "    ```bash\n",
    "    conda install -c conda-forge mamba -y\n",
    "    ```\n",
    "- For future package installs, replace `conda` with `mamba`:\n",
    "    ```bash\n",
    "    mamba install package\n",
    "    ```"
   ]
  },
  {
   "cell_type": "code",
   "execution_count": null,
   "metadata": {},
   "outputs": [],
   "source": []
  },
  {
   "cell_type": "markdown",
   "metadata": {},
   "source": [
    "## Docker\n",
    "\n",
    "### Compose Helpers\n",
    "```bash\n",
    "alias dcu='sudo docker-compose up -d'                   # Start all services in background\n",
    "alias dcd='sudo docker-compose down --remove-orphans'   # Destroy all services\n",
    "alias dcp='sudo docker-compose ps'                      # Show port mappings\n",
    "alias dcr='dcd && dcu'                                  # Restart all services in background\n",
    "```"
   ]
  },
  {
   "cell_type": "markdown",
   "metadata": {},
   "source": [
    "## Ports\n",
    "\n",
    "### Kill specific port\n",
    "```bash\n",
    "killport() {\n",
    "    fuser -n tcp -k $1\n",
    "}\n",
    "```"
   ]
  },
  {
   "cell_type": "markdown",
   "metadata": {},
   "source": [
    "## Security\n",
    "### Check for existing keys\n",
    "```bash\n",
    "for key in ~/.ssh/id_*; do ssh-keygen -l -f \"${key}\"; done | uniq\n",
    "```\n",
    "\n",
    "### Generate ed25519 key\n",
    "```bash\n",
    "ssh-keygen -o -a 255 -t ed25519 -f ~/.ssh/id_ed25519 -C \"user@host\"\n",
    "```"
   ]
  }
 ],
 "metadata": {},
 "nbformat": 4,
 "nbformat_minor": 2
}
