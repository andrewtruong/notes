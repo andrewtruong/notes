{
 "cells": [
  {
   "cell_type": "markdown",
   "metadata": {},
   "source": [
    "# Proxmox (QEMU/KVM/VirtIO)\n",
    "\n",
    "> Recipes for Proxmox Virtual Environment"
   ]
  },
  {
   "cell_type": "markdown",
   "metadata": {},
   "source": [
    "These commands were tested on a Proxmox 6.3.1 clean install with this hardware:\n",
    "- Ryzen 3900X\n",
    "- Zotac RTX3090\n",
    "- MSI B450 Steel Legend"
   ]
  },
  {
   "cell_type": "markdown",
   "metadata": {},
   "source": [
    "## Setup Proxmox on TTY\n",
    "\n",
    "- By default, Proxmox 6.3.1 does not detect RTX3090.  You need to explicitly add:\n",
    "\n",
    "```bash\n",
    "#/usr/share/X11/xorg.conf.d/nvidia.conf\n",
    "\n",
    "Section \"Device\"\n",
    "    Identifier \"Card0\"\n",
    "    Driver \"fbdev\"\n",
    "    BusID \"your_busid\"\n",
    "EndSection\n",
    "```\n",
    "\n",
    "```bash\n",
    "# Check busid\n",
    "lspci -k | grep VGA     # looks like ##.##.#\n",
    "```\n",
    "\n",
    "Then run `xinit` to launch into Proxmox installer"
   ]
  },
  {
   "cell_type": "markdown",
   "metadata": {},
   "source": [
    "## Enable GPU Passthrough\n",
    "\n",
    "In my testing, I get native performance with passthrough.\n",
    "\n",
    "### Enable IOMMU and interrupt remapping\n",
    "```bash\n",
    "# Enable IOMMU\n",
    "echo 'GRUB_CMDLINE_LINUX_DEFAULT=\"quiet amd_iommu=on iommu=pt video=efifb:off nofb nomodeset video=vesafb:off\"' >> /etc/default/grub\n",
    "\n",
    "echo \"quiet amd_iommu=on iommu=pt\" >> /etc/kernel/cmdline\n",
    "\n",
    "echo \"vfio\n",
    "vfio_iommu_type1\n",
    "vfio_pci\n",
    "vfio_virqd\" >> /etc/modules\n",
    "\n",
    "# Enable interrupt remapping\n",
    "echo \"options vfio_iommu_type1 allow_unsafe_interrupts=1\" > /etc/modprobe.d/iommu_unsafe_interrupts.conf\n",
    "echo \"options kvm ignore_msrs=1\" > /etc/modprobe.d/kvm.conf\n",
    "```"
   ]
  },
  {
   "cell_type": "markdown",
   "metadata": {},
   "source": [
    "### Add device passthrough to VFIO\n",
    "```bash\n",
    "VFIO_IDS=$(\n",
    "    lspci | grep NVIDIA |  # Get NVIDIA PCI devices \n",
    "    cut -c 1-7          |  # Get just the bus number\n",
    "    xargs -n1 lspci -ns |  # For each device:\n",
    "    cut -c 15-23        |  #     get the vendor ID code\n",
    "    paste -sd \",\"          # Combine into CSV format\n",
    ")\n",
    "\n",
    "echo \"options vfio-pci ids=$VFIO_IDS disable_vga=1\" >> /etc/modprobe.d/vfio.conf\n",
    "```"
   ]
  },
  {
   "cell_type": "markdown",
   "metadata": {},
   "source": [
    "### Blacklist GPU drivers (so VM can use them)\n",
    "```bash\n",
    "echo \"blacklist radeon\n",
    "blacklist nouveau\n",
    "blacklist nvidia\" >> /etc/modprobe.d/blacklist.conf\n",
    "```"
   ]
  },
  {
   "cell_type": "markdown",
   "metadata": {},
   "source": [
    "### Update Grub and reboot\n",
    "```bash\n",
    "pve-efiboot-tool refresh\n",
    "update-initramfs -u -k all\n",
    "update-grub\n",
    "reboot\n",
    "```"
   ]
  },
  {
   "cell_type": "markdown",
   "metadata": {},
   "source": [
    "### Check that everything is working\n",
    "```bash\n",
    "dmesg | grep -e DMAR -e IOMMU - e AMD-Vi\n",
    "```"
   ]
  },
  {
   "cell_type": "code",
   "execution_count": null,
   "metadata": {},
   "outputs": [],
   "source": [
    "# collapse\n",
    "[    0.592815] pci 0000:00:00.2: AMD-Vi: IOMMU performance counters supported\n",
    "[    0.594154] pci 0000:00:00.2: AMD-Vi: Found IOMMU cap 0x80\n",
    "[    0.594155] pci 0000:00:00.2: AMD-Vi: Extended features (0x69a22da13324bcf):\n",
    "[    0.594156] AMD-Vi: Interrupt remapping enabled\n",
    "[    0.594157] AMD-Vi: Virtual APIC enabled\n",
    "[    0.594157] AMD-Vi: X2APIC enabled\n",
    "[    0.594240] AMD-Vi: Lazy IO/TLB flushing enabled\n",
    "[    0.594844] perf/amd_iommu: Detected AMD IOMMU #0 (2 banks, 4 counters/bank)."
   ]
  },
  {
   "cell_type": "markdown",
   "metadata": {},
   "source": [
    "```bash\n",
    "dmesg | grep -i vfio\n",
    "```"
   ]
  },
  {
   "cell_type": "code",
   "execution_count": null,
   "metadata": {},
   "outputs": [],
   "source": [
    "# collapse\n",
    "[    5.953629] VFIO - User Level meta-driver version: 0.3\n",
    "[    5.957169] vfio-pci 0000:0e:00.0: vgaarb: changed VGA decodes: olddecodes=io+mem,decodes=none:owns=io+mem\n",
    "[    5.980174] vfio_pci: add [12ed:3304[ffffffff:ffffffff]] class 0x000000/00000000\n",
    "[    6.000165] vfio_pci: add [12ed:2bfa[ffffffff:ffffffff]] class 0x000000/00000000\n",
    "[   34.528192] vfio-pci 0000:0e:00.0: vfio_ecap_init: hiding ecap 0x1f@0x260\n",
    "[   34.528213] vfio-pci 0000:0e:00.0: vfio_ecap_init: hiding ecap 0x20@0x800\n",
    "[   34.528221] vfio-pci 0000:0e:00.0: vfio_ecap_init: hiding ecap 0x27@0xd2f\n",
    "[   34.528222] vfio-pci 0000:0e:00.0: vfio_ecap_init: hiding ecap 0x28@0xe00\n",
    "[   34.528223] vfio-pci 0000:0e:00.0: vfio_ecap_init: hiding ecap 0x26@0xf00\n",
    "[   34.529465] vfio-pci 0000:0e:00.0: No more image in the PCI ROM\n",
    "[   34.548134] vfio-pci 0000:0e:00.1: vfio_ecap_init: hiding ecap 0x26@0x170\n",
    "[   36.127601] vfio-pci 0000:0e:00.0: No more image in the PCI ROM\n",
    "[   36.127623] vfio-pci 0000:0e:00.0: No more image in the PCI ROM"
   ]
  },
  {
   "cell_type": "code",
   "execution_count": null,
   "metadata": {},
   "outputs": [],
   "source": []
  },
  {
   "cell_type": "markdown",
   "metadata": {},
   "source": [
    "```bash\n",
    "cat /proc/cmdline\n",
    "```"
   ]
  },
  {
   "cell_type": "code",
   "execution_count": null,
   "metadata": {},
   "outputs": [],
   "source": [
    "# collapse\n",
    "BOOT_IMAGE=/boot/vmlinuz-5.4.73-1-pve root=/dev/mapper/pve-root ro quiet amd_iommu=on iommu=pt video=efifb:off nofb nomodeset video=vesafb:off"
   ]
  },
  {
   "cell_type": "markdown",
   "metadata": {},
   "source": [
    "### For each VM with GPU passthrough required\n",
    "```bash\n",
    "_DEVICE=$(lspci | grep VGA | head -c 5)\n",
    "VID=100  # your VM ID here\n",
    "\n",
    "echo \"machine: q35\n",
    "cpu: host,hidden=1,flags=+pcid\n",
    "numa: 1\n",
    "hostpci0: ${_DEVICE},pcie=1,x-vga=1\n",
    "bios: ovmf\n",
    "scsihw: virtio-scsi-pci\n",
    "vga: virtio\n",
    "args: -cpu 'host,+kvm_pv_unhalt,+kvm_pv_eoi,hv_vendor_id=NV43FIX,kvm=off'\n",
    "\" >> /etc/pve/qemu-server/$VID.conf\n",
    "```\n",
    "\n",
    "Now you can start the VM with full GPU passthrough.\n",
    "\n",
    "If you have multiple devices, you can replace `$_DEVICE` with the specific device you want to passthrough"
   ]
  },
  {
   "cell_type": "markdown",
   "metadata": {},
   "source": [
    "## Create ZFS Pools"
   ]
  },
  {
   "cell_type": "markdown",
   "metadata": {},
   "source": [
    "### Detect drives\n",
    "```bash\n",
    "fdisk -l | grep '^Disk'\n",
    "```\n",
    "\n",
    "### Format drives\n",
    "If creating a fresh pool, delete everything on the drive with `d`\n",
    "```bash\n",
    "fdisk /dev/your_drive\n",
    "```\n",
    "\n",
    "### Setup zpool\n",
    "```bash\n",
    "zpool create -m /mnt/target_name target_name raidz_type /dev/drive1 /dev/drive2 # ...\n",
    "```"
   ]
  },
  {
   "cell_type": "markdown",
   "metadata": {},
   "source": [
    "## Create Backup Server"
   ]
  },
  {
   "cell_type": "markdown",
   "metadata": {},
   "source": [
    "### Install Proxmox Backup Server\n",
    "1. Download and install the [PBS ISO](https://www.proxmox.com/en/downloads/category/iso-images-pbs)\n",
    "2. Install as a VM on current Proxmox Server (if backups are not critical)\n",
    "3. Install on a separate machine off-site (if backups are critical)"
   ]
  },
  {
   "cell_type": "markdown",
   "metadata": {},
   "source": [
    "### Add Storage to PBS\n",
    "1. In PVE: Add new SCSI device to PBS VM with target disk size (500GB should be enough to get started).  This can come from your ZFS pool.\n",
    "2. In PBS: Drives should appear mounted.  Initialize these disks with GPT (Administration > Storage/Disks).  If coming from your ZFS pool in (1), you don't need to create another pool in PBS.\n",
    "3. In PVE: Add new PBS storage (Datacenter > Add > Proxmox Backup Server) with the same name as from (2) and enter SHA-256 fingerprint from PBS (Dashboard > Show Fingerprint)"
   ]
  },
  {
   "cell_type": "markdown",
   "metadata": {},
   "source": [
    "### Schedule backups \n",
    "\n",
    "1. In PVE: Create backup jobs (Datacenter > Backup > Add) with preferred settings.  Defaults are fine.\n",
    "2. In PBS: Configure how many backups you want to keep.  Keeping a few dailies, 1 weekly, 1 monthly is fine.  Keep longer for critical applications.\n",
    "3. In PBS: Setup verify jobs (Datastore > Verify Jobs).  Defaults are fine.  This will validate your jobs for corruption."
   ]
  }
 ],
 "metadata": {
  "kernelspec": {
   "display_name": "Python 3.8.8 64-bit ('fastpages': conda)",
   "name": "python388jvsc74a57bd0bab989e609fa7ae72b4d90aa019d09772e35d5f7652f4e146d62cc6a7c1dbb78"
  }
 },
 "nbformat": 4,
 "nbformat_minor": 2
}
