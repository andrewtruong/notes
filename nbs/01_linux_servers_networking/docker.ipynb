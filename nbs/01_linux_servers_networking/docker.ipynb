{
 "cells": [
  {
   "cell_type": "markdown",
   "metadata": {},
   "source": [
    "# Docker\n",
    "\n",
    "> Recipes for Docker"
   ]
  },
  {
   "cell_type": "markdown",
   "metadata": {},
   "source": [
    "## Create your own registry\n",
    "- docker/registry\n",
    "- linuxserver/fleet"
   ]
  },
  {
   "cell_type": "markdown",
   "metadata": {},
   "source": [
    "## Multi-Stage Builds\n",
    "- Make your docker images smaller by separating concerns\n",
    "- Some of these features may require `DOCKER_BUILDKIT=1` env var\n",
    "- You can also use `docker buildx` to use BuildKit"
   ]
  },
  {
   "cell_type": "markdown",
   "metadata": {},
   "source": [
    "### DRY / Flavours\n",
    "- Parameterize with `ARG` to make slightly different envs\n",
    "\n",
    "```Dockerfile\n",
    "# or slim, buster, etc.\n",
    "ARG flavour=alpine\n",
    "\n",
    "FROM python:3.8-$flavour\n",
    "...\n",
    "```"
   ]
  },
  {
   "cell_type": "markdown",
   "metadata": {},
   "source": [
    "### Dev Containers\n",
    "- For max decoupling, you can create different containers with the same `Dockerfile` and specify which container to build by specifying `--target=$NAME`\n",
    "\n",
    "```Dockerfile\n",
    "FROM python:3.8-alpine AS build\n",
    "...\n",
    "\n",
    "FROM python:3.8-alpine AS dev\n",
    "COPY --from=build . .\n",
    "# install only devtool stuff\n",
    "...\n",
    "\n",
    "FROM python:3.8-alpine AS release\n",
    "COPY --from=build app.py .\n",
    "# no devtools, just the minimum required to deploy\n",
    "ENTRYPOINT [\"python app.py\"]\n",
    "```"
   ]
  },
  {
   "cell_type": "markdown",
   "metadata": {},
   "source": [
    "### Concurrent Builds\n",
    "- Instead of building linearly, you can treat build steps as a DAG and build in parallel where possible using multiple `COPY` statements\n",
    "\n",
    "```Dockerfile\n",
    "...\n",
    "COPY --from=builder-dep-one   /out .\n",
    "COPY --from-builder-dep-two   /out .\n",
    "COPY --from-builder-dep-three /out .\n",
    "...\n",
    "```"
   ]
  },
  {
   "cell_type": "markdown",
   "metadata": {},
   "source": [
    "### Secrets and keys\n",
    "- Do not add secrets with `ENV` or `ARG` or keys with `COPY` as they can be leaked\n",
    "- Instead, mount secrets and keys.\n",
    "```Dockerfile\n",
    "RUN --mount=type=secret,required,id=aws,target=.aws/credentials \\\n",
    "    ./get_model_from_s3.sh \n",
    "\n",
    "RUN --mount=type=ssh,required \\\n",
    "    git clone git@github.com:{org}/{repo}\n",
    "```"
   ]
  },
  {
   "cell_type": "markdown",
   "metadata": {},
   "source": [
    "### Compose with Multi-Stage\n",
    "- Specify which target you are building from the `Dockerfile`\n",
    "\n",
    "```yml\n",
    "# docker-compose.yml\n",
    "services:\n",
    "  app:\n",
    "    build:\n",
    "      context: ./\n",
    "      target: ${ENVIRON}  # dev, prod, etc.\n",
    "```"
   ]
  },
  {
   "cell_type": "markdown",
   "metadata": {},
   "source": [
    "## Auto-build containers on push (GitHub Actions)\n",
    "- See example here: https://github.com/andrewtruong/autobuildtest"
   ]
  },
  {
   "cell_type": "markdown",
   "metadata": {},
   "source": [
    "Create 3 files inside the container folder (in this case `jax`):\n",
    "\n",
    "```Dockerfile\n",
    "# jax/Dockerfile\n",
    "FROM mambaorg/micromamba:0.11.3\n",
    "\n",
    "COPY env.yml /root/env.yml\n",
    "RUN micromamba install -y -n base -f /root/env.yml && \\\n",
    "    micromamba clean -a -y\n",
    "```\n",
    "\n",
    "```bash\n",
    "# jax/build.sh\n",
    "docker build -t itsandrewtruong/jax:latest -f Dockerfile .\n",
    "```\n",
    "\n",
    "```yaml\n",
    "# jax/env.yml (from conda export > env.yml)\n",
    "name: jax\n",
    "channels:\n",
    "  - conda-forge\n",
    "dependencies:\n",
    "  - python>=3.7\n",
    "  - jax\n",
    "  - jaxlib\n",
    "  # - cudnn  # not required if using nvidia-docker\n",
    "  # - cudatoolkit\n",
    "```"
   ]
  },
  {
   "cell_type": "markdown",
   "metadata": {},
   "source": [
    "- Define `build.yml`\n",
    "```yaml\n",
    "# .github/workflows/build.yml\n",
    "name: Build Containers\n",
    "on:\n",
    "  push:\n",
    "    branches:\n",
    "      - master\n",
    "jobs:\n",
    "  jax:\n",
    "    name: Build docker containers\n",
    "    runs-on: ubuntu-latest\n",
    "    steps:\n",
    "      - name: Checkout repo\n",
    "        uses: actions/checkout@v2\n",
    "\n",
    "      - name: Set up QEMU  # For ARM support (M1)\n",
    "        uses: docker/setup-qemu-action@v1\n",
    "\n",
    "      - name: Set up Docker Buildx\n",
    "        uses: docker/setup-buildx-action@v1\n",
    "\n",
    "      - name: Login to DockerHub\n",
    "        uses: docker/login-action@v1\n",
    "        with:\n",
    "          username: ${{ secrets.DOCKERHUB_USERNAME }}\n",
    "          password: ${{ secrets.DOCKERHUB_TOKEN }}\n",
    "\n",
    "      - name: Build and push\n",
    "        id: docker_build\n",
    "        uses: docker/build-push-action@v2\n",
    "        with:\n",
    "          context: jax\n",
    "          push: true\n",
    "          tags: itsandrewtruong/jax:latest\n",
    "\n",
    "      - name: Image digest\n",
    "        run: echo ${{ steps.docker_build.outputs.digest }}\n",
    "```"
   ]
  },
  {
   "cell_type": "markdown",
   "metadata": {},
   "source": [
    "## Setup Credential Store\n",
    "- https://github.com/docker/docker-credential-helpers/releases"
   ]
  },
  {
   "cell_type": "markdown",
   "metadata": {},
   "source": [
    "## Useful Commands"
   ]
  },
  {
   "cell_type": "markdown",
   "metadata": {},
   "source": [
    "```bash\n",
    "alias dcu='sudo docker-compose up -d'                   # Start all services in background\n",
    "alias dcd='sudo docker-compose down --remove-orphans'   # Destroy all services\n",
    "alias dcp='sudo docker-compose ps'                      # Show port mappings\n",
    "alias dcr='dcd && dcu'                                  # Restart all services in background\n",
    "```"
   ]
  },
  {
   "cell_type": "markdown",
   "metadata": {},
   "source": [
    "### Check logs\n",
    "`sudo docker-compose logs container1 container2`"
   ]
  },
  {
   "cell_type": "markdown",
   "metadata": {},
   "source": [
    "### Inspect containers (low level)\n",
    "`sudo docker inspect container`"
   ]
  },
  {
   "cell_type": "markdown",
   "metadata": {},
   "source": [
    "### Enter shell in container\n",
    "`sudo docker exec -it container` /bin/sh"
   ]
  },
  {
   "cell_type": "markdown",
   "metadata": {},
   "source": [
    "### Run from another directory\n",
    "```bash\n",
    "docker compose -f /path/to/docker-compose.yml up\n",
    "```"
   ]
  },
  {
   "cell_type": "markdown",
   "metadata": {},
   "source": [
    "## Kompose\n",
    "- Convert `docker-compose.yml` to kubernetes files.\n",
    "- Compose files are easier to read and write imo"
   ]
  },
  {
   "cell_type": "markdown",
   "metadata": {},
   "source": [
    "### Convert `docker-compose.yml`\n",
    "- Optionally create helm chart with `-c`\n",
    "- Auto-generated services are not guaranteed to work.\n",
    "  - You may need to create `ConfigMap` and `Secrets` to fill in what would otherwise go in `.env`\n",
    "  - Databases should not be used with kompose because `StatefulSet` is not available atm.\n",
    "  \n",
    "```bash\n",
    "SERVICE_NAME='myapp'\n",
    "mkdir $SERVICE_NAME\n",
    "\n",
    "kompose convert -o $SERVICE_NAME -c\n",
    "```"
   ]
  }
 ],
 "metadata": {
  "kernelspec": {
   "display_name": "Python 3.8.8 64-bit ('fastpages': conda)",
   "name": "python388jvsc74a57bd0bab989e609fa7ae72b4d90aa019d09772e35d5f7652f4e146d62cc6a7c1dbb78"
  }
 },
 "nbformat": 4,
 "nbformat_minor": 2
}
