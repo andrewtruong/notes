{
 "cells": [
  {
   "cell_type": "markdown",
   "metadata": {},
   "source": [
    "# Linux Servers\n",
    "\n",
    "> Recipes for Linux Servers"
   ]
  },
  {
   "cell_type": "markdown",
   "metadata": {},
   "source": [
    "## Services"
   ]
  },
  {
   "cell_type": "markdown",
   "metadata": {},
   "source": [
    "- Keep it simple.\n",
    "- [LinuxServer](https://www.linuxserver.io/) has pre-built images that are tested and easy to deploy, so prefer these images if possible."
   ]
  },
  {
   "cell_type": "markdown",
   "metadata": {},
   "source": [
    "## Setup Dynamic DNS"
   ]
  },
  {
   "cell_type": "markdown",
   "metadata": {},
   "source": [
    "- [DuckDNS](https://hub.docker.com/r/linuxserver/duckdns/) is the easiest way to setup dynamic DNS AFAIK.\n",
    "- Your ISP or router manufacturer may also provide dynamic DNS service."
   ]
  },
  {
   "cell_type": "markdown",
   "metadata": {},
   "source": [
    "### DuckDNS\n",
    "\n",
    "1. Create an account on [DuckDNS](http://www.duckdns.org/)\n",
    "2. Create a subdomain for your services (e.g. `yourdomain.duckdns.org`)\n",
    "3. Deploy the DuckDNS container and allow a few min for your IP to update"
   ]
  },
  {
   "cell_type": "markdown",
   "metadata": {},
   "source": [
    "## Setup Reverse Proxy"
   ]
  },
  {
   "cell_type": "markdown",
   "metadata": {},
   "source": [
    "- [NGINX Proxy Manager](https://github.com/jc21/nginx-proxy-manager) is the easiest way to setup a reverse proxy AFAIK\n",
    "- [SWAG](https://hub.docker.com/r/linuxserver/swag) is another option, but is more involved.\n"
   ]
  },
  {
   "cell_type": "markdown",
   "metadata": {},
   "source": [
    "### NGINX Proxy Manager\n",
    "\n",
    "1. Deploy the NGINX Proxy Manager container\n",
    "2. Log in and change password\n",
    "3. Create a new proxy host:\n",
    "    - Domain Names: `yourdomain.duckdns.org` or a subdomain like `service.yourdomain.duckdns.org`\n",
    "    - Scheme: `http` or `https` depending on your service\n",
    "    - Forward Hostname / IP: The URL of your service, or local IP, e.g. `192.168.1.101`\n",
    "    - Forward Port: The Port of your service, e.g. `8080`\n",
    "    - Enable `Block Common Exploits`\n",
    "4. Add an SSL Certificate\n",
    "    - Request a new SSL Certificate with Let's Encrypt\n",
    "    - Enable `Force SSL` and `HTTP/2 Support`\n",
    "5. Add access list if you want to restrict access to certain users"
   ]
  },
  {
   "cell_type": "markdown",
   "metadata": {},
   "source": [
    "## Setup Multiple Services and Load Balancer (naive)\n",
    "- Expose services on one port\n",
    "- Create load balancer with the `internal:external` port mapping\n",
    "- Or use Kubernetes"
   ]
  },
  {
   "cell_type": "markdown",
   "metadata": {},
   "source": [
    "### Compose\n",
    "`docker-compose.yml`\n",
    "```yaml\n",
    "version: \"3\"\n",
    "services:\n",
    "    app1:\n",
    "        # config here\n",
    "        expose:\n",
    "            - \"9000\"\n",
    "    app2:\n",
    "        # config here\n",
    "        expose:\n",
    "            - \"9000\"\n",
    "    app3:\n",
    "        # config here\n",
    "        expose:\n",
    "            - \"9000\"\n",
    "    app4:\n",
    "        # config here\n",
    "        expose:\n",
    "            - \"9000\"\n",
    "    load_balancer:\n",
    "        image: nginx:1.19.2-alpine\n",
    "        volumes:\n",
    "        - ./nginx.conf:/etc/nginx/nginx.conf:ro\n",
    "        ports:\n",
    "        - \"9000:9000\"\n",
    "        depends_on:\n",
    "        - app1\n",
    "        - app2\n",
    "        - app3\n",
    "        - app4\n",
    "```\n",
    "\n",
    "`nginx.conf`\n",
    "```conf\n",
    "user  nginx;\n",
    "worker_processes  auto;\n",
    "\n",
    "error_log  /var/log/nginx/error.log warn;\n",
    "pid        /var/run/nginx.pid;\n",
    "\n",
    "\n",
    "events {\n",
    "    worker_connections  1024;\n",
    "}\n",
    "\n",
    "\n",
    "http {\n",
    "    include       /etc/nginx/mime.types;\n",
    "    default_type  application/octet-stream;\n",
    "\n",
    "    log_format  main  '$remote_addr - $remote_user [$time_local] \"$request\" '\n",
    "                      '$status $body_bytes_sent \"$http_referer\" '\n",
    "                      '\"$http_user_agent\" \"$http_x_forwarded_for\"';\n",
    "\n",
    "    access_log  /var/log/nginx/access.log  main;\n",
    "\n",
    "    sendfile        on;\n",
    "\n",
    "    keepalive_timeout  65;\n",
    "\n",
    "    upstream app {\n",
    "        server app1:9000;\n",
    "        server app2:9000;\n",
    "        server app3:9000;\n",
    "        server app4:9000;\n",
    "    }\n",
    "\n",
    "    server {\n",
    "        listen       9000;\n",
    "        listen  [::]:9000;\n",
    "        server_name  localhost;\n",
    "\n",
    "         ignore_invalid_headers off;\n",
    "         client_max_body_size 0;\n",
    "         proxy_buffering off;\n",
    "\n",
    "        location / {\n",
    "            proxy_set_header Host $http_host;\n",
    "            proxy_set_header X-Real-IP $remote_addr;\n",
    "            proxy_set_header X-Forwarded-For $proxy_add_x_forwarded_for;\n",
    "            proxy_set_header X-Forwarded-Proto $scheme;\n",
    "\n",
    "            proxy_connect_timeout 300;\n",
    "            proxy_http_version 1.1;\n",
    "            proxy_set_header Connection \"\";\n",
    "            chunked_transfer_encoding off;\n",
    "\n",
    "            proxy_pass http://app;\n",
    "        }\n",
    "    }\n",
    "}\n",
    "```"
   ]
  },
  {
   "cell_type": "markdown",
   "metadata": {},
   "source": [
    "## Check server performance"
   ]
  },
  {
   "cell_type": "markdown",
   "metadata": {},
   "source": [
    "### NetData\n",
    "- https://learn.netdata.cloud/docs/agent/packaging/installer\n",
    "- https://learn.netdata.cloud/docs/agent/web/server\n",
    "  - Dashboard at https://127.0.0.1:19999\n",
    "  - Management console at https://10.1.1.1:19998\n",
    "\n",
    "```bash\n",
    "bash <(curl -Ss https://my-netdata.io/kickstart.sh)\n",
    "```"
   ]
  },
  {
   "cell_type": "markdown",
   "metadata": {},
   "source": [
    "### Grafana/Kibana\n",
    "- For small scale deployment, this is not worth the hassle.  NetData gives you most of what you need out of the box.\n",
    "- See Grafana deploys for more"
   ]
  }
 ],
 "metadata": {},
 "nbformat": 4,
 "nbformat_minor": 2
}
