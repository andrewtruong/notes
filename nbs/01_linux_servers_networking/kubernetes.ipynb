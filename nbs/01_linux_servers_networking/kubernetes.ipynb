{
 "cells": [
  {
   "cell_type": "markdown",
   "metadata": {},
   "source": [
    "# Kubernetes\n",
    "\n",
    "> Recipes for Kubernetes"
   ]
  },
  {
   "cell_type": "markdown",
   "metadata": {},
   "source": [
    "## Local Dev\n",
    "- https://kubernetes.io/docs/tasks/tools/install-kubectl-linux/\n",
    "- https://k3s.io/"
   ]
  },
  {
   "cell_type": "markdown",
   "metadata": {},
   "source": [
    "### Writing deployments\n",
    "- Use jsonnet to avoid duplication!"
   ]
  },
  {
   "cell_type": "markdown",
   "metadata": {},
   "source": [
    "## Deploy"
   ]
  },
  {
   "cell_type": "markdown",
   "metadata": {},
   "source": [
    "## EZ Mode\n",
    "- Deploy using Rancher on K3s or Debian Server"
   ]
  },
  {
   "cell_type": "markdown",
   "metadata": {},
   "source": [
    "## Local dev\n",
    "- If your docker does not have root, you can force with `sudo minikube start --force --driver=docker`"
   ]
  },
  {
   "cell_type": "raw",
   "metadata": {},
   "source": [
    "- ConfigMap\n",
    "- Secrets\n",
    "- Volumes\n",
    "- Create deployments / services\n",
    "- Stateful set (for DB); painful\n",
    "\n"
   ]
  },
  {
   "cell_type": "markdown",
   "metadata": {},
   "source": []
  }
 ],
 "metadata": {
  "kernelspec": {
   "display_name": "Python 3.8.8 64-bit ('fastpages': conda)",
   "name": "python388jvsc74a57bd0bab989e609fa7ae72b4d90aa019d09772e35d5f7652f4e146d62cc6a7c1dbb78"
  }
 },
 "nbformat": 4,
 "nbformat_minor": 2
}
