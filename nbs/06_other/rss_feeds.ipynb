{
 "cells": [
  {
   "cell_type": "markdown",
   "metadata": {},
   "source": [
    "# RSS Feeds\n",
    "> Recipes for RSS Feeds"
   ]
  },
  {
   "cell_type": "code",
   "execution_count": null,
   "metadata": {},
   "outputs": [],
   "source": [
    "import feedparser\n",
    "import pandas as pd"
   ]
  },
  {
   "cell_type": "code",
   "execution_count": null,
   "metadata": {},
   "outputs": [],
   "source": [
    "json = feedparser.parse('https://forums.redflagdeals.com/feed/forum/9')\n",
    "df = pd.json_normalize(json['entries'])"
   ]
  },
  {
   "cell_type": "code",
   "execution_count": null,
   "metadata": {},
   "outputs": [],
   "source": [
    "search_terms = ['EVGA', 'G15', 'wifi', 'laptop']\n",
    "q = '|'.join(search_terms)"
   ]
  },
  {
   "cell_type": "code",
   "execution_count": null,
   "metadata": {},
   "outputs": [],
   "source": [
    "interesting_links = df.loc[(df.title.str.contains(q, regex=True, case=False)) | (df.summary.str.contains(q, regex=True, case=False)), 'link'].tolist()"
   ]
  },
  {
   "cell_type": "code",
   "execution_count": null,
   "metadata": {},
   "outputs": [
    {
     "data": {
      "text/plain": "[]"
     },
     "execution_count": null,
     "metadata": {},
     "output_type": "execute_result"
    }
   ],
   "source": [
    "df.loc[df.title.str.contains(q, regex=True), 'id'].tolist()"
   ]
  }
 ],
 "metadata": {
  "kernelspec": {
   "display_name": "Python 3.8.8 64-bit ('fastpages': conda)",
   "name": "python388jvsc74a57bd0bab989e609fa7ae72b4d90aa019d09772e35d5f7652f4e146d62cc6a7c1dbb78"
  }
 },
 "nbformat": 4,
 "nbformat_minor": 2
}
