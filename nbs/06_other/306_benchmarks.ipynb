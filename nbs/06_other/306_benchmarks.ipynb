{
 "cells": [
  {
   "cell_type": "markdown",
   "metadata": {},
   "source": [
    "# Benchmarks"
   ]
  },
  {
   "cell_type": "markdown",
   "metadata": {},
   "source": [
    "## Julia vs NumPy Performance\n",
    "- Extended from: https://github.com/kbarbary/website/blob/master/posts/julia-vs-numpy-arrays.rst\n",
    "- tl;dr: NumPy still faster for now"
   ]
  },
  {
   "cell_type": "code",
   "execution_count": null,
   "metadata": {},
   "outputs": [],
   "source": [
    "#hide\n",
    "PYTHON_PATH = `/home/andrew/miniconda/envs/fastpages/bin/ipython --no-confirm-exit`;\n",
    "macro python_str(s) open(PYTHON_PATH,\"w\",stdout) do io; print(io, s); end; end;"
   ]
  },
  {
   "cell_type": "markdown",
   "metadata": {},
   "source": [
    "### Element-wise Multiply\n",
    "- Faster on NumPy by a 1.3-1.5x for large N"
   ]
  },
  {
   "cell_type": "markdown",
   "metadata": {},
   "source": [
    "#### Python 3.8.8, NumPy 1.19.2"
   ]
  },
  {
   "cell_type": "code",
   "execution_count": null,
   "metadata": {},
   "outputs": [
    {
     "name": "stdout",
     "output_type": "stream",
     "text": [
      "Python 3.8.8 (default, Feb 24 2021, 21:46:12) \n",
      "Type 'copyright', 'credits' or 'license' for more information\n",
      "IPython 7.22.0 -- An enhanced Interactive Python. Type '?' for help.\n",
      "\n",
      "In [1]: \n",
      "In [2]: \n",
      "In [3]: \n",
      "In [3]:    ...:    ...:    ...:    ...:    ...:    ...: n =            1: time=2.34 µs ± 23.2 ns per loop (mean ± std. dev. of 7 runs, 100000 loops each)\n",
      "n =           10: time=2.36 µs ± 27.8 ns per loop (mean ± std. dev. of 7 runs, 100000 loops each)\n",
      "n =          100: time=2.41 µs ± 46.1 ns per loop (mean ± std. dev. of 7 runs, 100000 loops each)\n",
      "n =        1,000: time=3.03 µs ± 10.5 ns per loop (mean ± std. dev. of 7 runs, 100000 loops each)\n",
      "n =       10,000: time=6.92 µs ± 50.8 ns per loop (mean ± std. dev. of 7 runs, 100000 loops each)\n",
      "n =      100,000: time=47.5 µs ± 127 ns per loop (mean ± std. dev. of 7 runs, 10000 loops each)\n",
      "n =    1,000,000: time=1.05 ms ± 9.72 µs per loop (mean ± std. dev. of 7 runs, 1000 loops each)\n",
      "n =   10,000,000: time=16.2 ms ± 1.15 ms per loop (mean ± std. dev. of 7 runs, 100 loops each)\n",
      "n =  100,000,000: time=151 ms ± 872 µs per loop (mean ± std. dev. of 7 runs, 10 loops each)\n",
      "\n",
      "In [4]: "
     ]
    }
   ],
   "source": [
    "macro python_str(s) open(PYTHON_PATH,\"w\",stdout) do io; print(io, s); end; end;\n",
    "\n",
    "python\"\"\"\n",
    "from IPython.utils import io\n",
    "from numpy.random import rand\n",
    "\n",
    "for n in [10**k for k in range(9)]:\n",
    "    x = rand(n)\n",
    "    y = rand(n)\n",
    "    with io.capture_output():\n",
    "        time = %timeit -o (x*y).sum()\n",
    "    print(f'n = {n:>12,}: time={time}')\n",
    "\n",
    "\"\"\""
   ]
  },
  {
   "cell_type": "markdown",
   "metadata": {},
   "source": [
    "#### Julia 1.6"
   ]
  },
  {
   "cell_type": "code",
   "execution_count": null,
   "metadata": {},
   "outputs": [
    {
     "name": "stdout",
     "output_type": "stream",
     "text": [
      "         n     result\n",
      "         1  25.590 ns (1 allocation: 96 bytes)\n",
      "        10  35.727 ns (1 allocation: 160 bytes)\n",
      "       100  56.584 ns (1 allocation: 896 bytes)\n",
      "      1000  625.689 ns (1 allocation: 7.94 KiB)\n",
      "     10000  6.244 μs (2 allocations: 78.20 KiB)\n",
      "    100000  64.332 μs (2 allocations: 781.33 KiB)\n",
      "   1000000  1.181 ms (2 allocations: 7.63 MiB)\n",
      "  10000000  23.123 ms (2 allocations: 76.29 MiB)\n",
      " 100000000  219.613 ms (2 allocations: 762.94 MiB)\n"
     ]
    }
   ],
   "source": [
    "using BenchmarkTools\n",
    "using Strs\n",
    "\n",
    "pr\"\"\"\\%10s(\"n\") \\%10s(\"result\")\\n\"\"\"\n",
    "for n in 10 .^ (0:8)\n",
    "    x = rand(n)\n",
    "    y = rand(n)\n",
    "    pr\"\\%10s(n)\"\n",
    "    @btime sum($x .* $y);\n",
    "end"
   ]
  },
  {
   "cell_type": "code",
   "execution_count": null,
   "metadata": {},
   "outputs": [],
   "source": []
  },
  {
   "cell_type": "markdown",
   "metadata": {},
   "source": [
    "### Matrix Multiply\n",
    "- Julia is a bit faster, but realistically negligible difference.\n",
    "- Both NumPy and Julia are probably using BLAS under the hood."
   ]
  },
  {
   "cell_type": "markdown",
   "metadata": {},
   "source": [
    "#### Python 3.8.8, NumPy 1.19.2"
   ]
  },
  {
   "cell_type": "code",
   "execution_count": null,
   "metadata": {},
   "outputs": [
    {
     "name": "stdout",
     "output_type": "stream",
     "text": [
      "Python 3.8.8 (default, Feb 24 2021, 21:46:12) \n",
      "Type 'copyright', 'credits' or 'license' for more information\n",
      "IPython 7.22.0 -- An enhanced Interactive Python. Type '?' for help.\n",
      "\n",
      "In [1]: \n",
      "In [2]: \n",
      "In [2]: \n",
      "In [3]: \n",
      "In [4]: \n",
      "In [4]:    ...:    ...:    ...:    ...:    ...:    ...: n =            1: time=1.1 µs ± 2.39 ns per loop (mean ± std. dev. of 7 runs, 1000000 loops each)\n",
      "n =           10: time=1.16 µs ± 12.7 ns per loop (mean ± std. dev. of 7 runs, 1000000 loops each)\n",
      "n =          100: time=1.16 µs ± 4.07 ns per loop (mean ± std. dev. of 7 runs, 1000000 loops each)\n",
      "n =        1,000: time=1.29 µs ± 5.4 ns per loop (mean ± std. dev. of 7 runs, 1000000 loops each)\n",
      "n =       10,000: time=3.18 µs ± 30.3 ns per loop (mean ± std. dev. of 7 runs, 100000 loops each)\n",
      "n =      100,000: time=5.2 µs ± 517 ns per loop (mean ± std. dev. of 7 runs, 100000 loops each)\n",
      "n =    1,000,000: time=28.6 µs ± 2.68 µs per loop (mean ± std. dev. of 7 runs, 10000 loops each)\n",
      "n =   10,000,000: time=4.12 ms ± 386 µs per loop (mean ± std. dev. of 7 runs, 100 loops each)\n",
      "n =  100,000,000: time=38.3 ms ± 998 µs per loop (mean ± std. dev. of 7 runs, 10 loops each)\n",
      "\n",
      "In [5]: "
     ]
    }
   ],
   "source": [
    "macro python_str(s) open(PYTHON_PATH,\"w\",stdout) do io; print(io, s); end; end;\n",
    "\n",
    "python\"\"\"\n",
    "import numpy as np\n",
    "\n",
    "from IPython.utils import io\n",
    "from numpy.random import rand\n",
    "\n",
    "for n in [10**k for k in range(9)]:\n",
    "    x = rand(n)\n",
    "    y = rand(n)\n",
    "    with io.capture_output():\n",
    "        time = %timeit -o x.T @ y\n",
    "    print(f'n = {n:>12,}: time={time}')\n",
    "\n",
    "\"\"\""
   ]
  },
  {
   "cell_type": "markdown",
   "metadata": {},
   "source": [
    "#### Julia 1.6"
   ]
  },
  {
   "cell_type": "code",
   "execution_count": null,
   "metadata": {},
   "outputs": [
    {
     "name": "stdout",
     "output_type": "stream",
     "text": [
      "         n     result\n",
      "         1  8.555 ns (0 allocations: 0 bytes)\n",
      "        10  11.754 ns (0 allocations: 0 bytes)\n",
      "       100  17.275 ns (0 allocations: 0 bytes)\n",
      "      1000  79.726 ns (0 allocations: 0 bytes)\n",
      "     10000  1.200 μs (0 allocations: 0 bytes)\n",
      "    100000  2.873 μs (0 allocations: 0 bytes)\n",
      "   1000000  20.548 μs (0 allocations: 0 bytes)\n",
      "  10000000  3.631 ms (0 allocations: 0 bytes)\n",
      " 100000000  37.358 ms (0 allocations: 0 bytes)\n"
     ]
    }
   ],
   "source": [
    "using BenchmarkTools\n",
    "using Strs\n",
    "\n",
    "pr\"\"\"\\%10s(\"n\") \\%10s(\"result\")\\n\"\"\"\n",
    "for n in 10 .^ (0:8)\n",
    "    x = rand(n)\n",
    "    y = rand(n)\n",
    "    pr\"\\%10s(n)\"\n",
    "    @btime ($x)' * $y\n",
    "end"
   ]
  },
  {
   "cell_type": "code",
   "execution_count": null,
   "metadata": {},
   "outputs": [],
   "source": []
  },
  {
   "cell_type": "code",
   "execution_count": null,
   "metadata": {},
   "outputs": [],
   "source": []
  }
 ],
 "metadata": {
  "kernelspec": {
   "display_name": "Julia 1.6.0",
   "language": "julia",
   "name": "julia-1.6"
  }
 },
 "nbformat": 4,
 "nbformat_minor": 2
}
