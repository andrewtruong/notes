{
 "cells": [
  {
   "cell_type": "markdown",
   "id": "generous-finland",
   "metadata": {},
   "source": [
    "# Leetcode"
   ]
  },
  {
   "cell_type": "code",
   "execution_count": null,
   "id": "clean-lebanon",
   "metadata": {},
   "outputs": [],
   "source": [
    "from typing import *"
   ]
  },
  {
   "cell_type": "code",
   "execution_count": null,
   "id": "determined-lindsay",
   "metadata": {},
   "outputs": [],
   "source": [
    "def check(result, expected):\n",
    "    assert result == expected, f\"Got {result}, Expected {expected}\""
   ]
  },
  {
   "cell_type": "markdown",
   "id": "mechanical-proposal",
   "metadata": {},
   "source": [
    "## 1470. Shuffle The Array"
   ]
  },
  {
   "cell_type": "markdown",
   "id": "compatible-carry",
   "metadata": {},
   "source": [
    "### Question\n",
    "\n",
    "Given the array nums consisting of 2n elements in the form [x1,x2,...,xn,y1,y2,...,yn].\n",
    "\n",
    "Return the array in the form [x1,y1,x2,y2,...,xn,yn].\n",
    "\n",
    " \n",
    "\n",
    "Example 1:\n",
    "\n",
    "Input: nums = [2,5,1,3,4,7], n = 3\n",
    "Output: [2,3,5,4,1,7] \n",
    "Explanation: Since x1=2, x2=5, x3=1, y1=3, y2=4, y3=7 then the answer is [2,3,5,4,1,7].\n",
    "Example 2:\n",
    "\n",
    "Input: nums = [1,2,3,4,4,3,2,1], n = 4\n",
    "Output: [1,4,2,3,3,2,4,1]\n",
    "Example 3:\n",
    "\n",
    "Input: nums = [1,1,2,2], n = 2\n",
    "Output: [1,2,1,2]\n",
    " \n",
    "\n",
    "Constraints:\n",
    "\n",
    "1 <= n <= 500\n",
    "nums.length == 2n\n",
    "1 <= nums[i] <= 10^3"
   ]
  },
  {
   "cell_type": "markdown",
   "id": "governmental-suicide",
   "metadata": {},
   "source": [
    "### Answer"
   ]
  },
  {
   "cell_type": "markdown",
   "id": "dependent-documentation",
   "metadata": {},
   "source": [
    "1. Split into two lists `x` and `y`, starting at `0` and `n`\n",
    "2. Pair up each list by index, `(x0,y0), (x1,y1), ... (xn,yn)`\n",
    "3. Flatten list of tuple"
   ]
  },
  {
   "cell_type": "code",
   "execution_count": null,
   "id": "protected-understanding",
   "metadata": {},
   "outputs": [],
   "source": [
    "class Solution:\n",
    "    def shuffle(self, nums: List[int], n: int) -> List[int]:\n",
    "        return [val for (x,y) in zip(nums[:n], nums[n:]) for val in (x,y)]"
   ]
  },
  {
   "cell_type": "code",
   "execution_count": null,
   "id": "specific-hours",
   "metadata": {},
   "outputs": [
    {
     "name": "stdout",
     "output_type": "stream",
     "text": [
      "2.47 µs ± 15.8 ns per loop (mean ± std. dev. of 7 runs, 100000 loops each)\n"
     ]
    }
   ],
   "source": [
    "%%timeit\n",
    "\n",
    "assert Solution().shuffle([2,5,1,3,4,7], 3) == [2,3,5,4,1,7]\n",
    "assert Solution().shuffle([1,2,3,4,4,3,2,1], 4) == [1,4,2,3,3,2,4,1]\n",
    "assert Solution().shuffle([1,1,2,2], 2) == [1,2,1,2]"
   ]
  },
  {
   "cell_type": "markdown",
   "id": "supported-lover",
   "metadata": {},
   "source": [
    "## 1732. Find the Highest Altitude"
   ]
  },
  {
   "cell_type": "markdown",
   "id": "african-update",
   "metadata": {},
   "source": [
    "### Question\n",
    "\n",
    "There is a biker going on a road trip. The road trip consists of n + 1 points at different altitudes. The biker starts his trip on point 0 with altitude equal 0.\n",
    "\n",
    "You are given an integer array gain of length n where gain[i] is the net gain in altitude between points i​​​​​​ and i + 1 for all (0 <= i < n). Return the highest altitude of a point.\n",
    "\n",
    " \n",
    "\n",
    "Example 1:\n",
    "\n",
    "Input: gain = [-5,1,5,0,-7]\n",
    "Output: 1\n",
    "Explanation: The altitudes are [0,-5,-4,1,1,-6]. The highest is 1.\n",
    "Example 2:\n",
    "\n",
    "Input: gain = [-4,-3,-2,-1,4,3,2]\n",
    "Output: 0\n",
    "Explanation: The altitudes are [0,-4,-7,-9,-10,-6,-3,-1]. The highest is 0.\n",
    " \n",
    "\n",
    "Constraints:\n",
    "\n",
    "n == gain.length\n",
    "1 <= n <= 100\n",
    "-100 <= gain[i] <= 100"
   ]
  },
  {
   "cell_type": "markdown",
   "id": "federal-groove",
   "metadata": {},
   "source": [
    "### Answer"
   ]
  },
  {
   "cell_type": "markdown",
   "id": "adapted-yukon",
   "metadata": {},
   "source": [
    "Each step is a delta.  Cumulatively sum up the deltas and return the max\n",
    "\n",
    "- Time: O(n)\n",
    "- Mem: O(n)"
   ]
  },
  {
   "cell_type": "code",
   "execution_count": null,
   "id": "intelligent-track",
   "metadata": {},
   "outputs": [],
   "source": [
    "class Solution:\n",
    "    def largestAltitude(self, gain: List[int]) -> int:\n",
    "        altitude = [0]\n",
    "        for i, g in enumerate(gain):\n",
    "            cumsum = altitude[i] + g\n",
    "            altitude.append(cumsum)\n",
    "            \n",
    "        return max(altitude)"
   ]
  },
  {
   "cell_type": "code",
   "execution_count": null,
   "id": "executive-rebel",
   "metadata": {},
   "outputs": [
    {
     "name": "stdout",
     "output_type": "stream",
     "text": [
      "2.18 µs ± 28.7 ns per loop (mean ± std. dev. of 7 runs, 100000 loops each)\n"
     ]
    }
   ],
   "source": [
    "%%timeit\n",
    "\n",
    "assert Solution().largestAltitude([-5,1,5,0,-7]) == 1\n",
    "assert Solution().largestAltitude([-4,-3,-2,-1,4,3,2]) == 0"
   ]
  },
  {
   "cell_type": "markdown",
   "id": "sunset-blood",
   "metadata": {},
   "source": [
    "Slightly more performant:\n",
    "\n",
    "- Time: O(n)\n",
    "- Mem: O(1)"
   ]
  },
  {
   "cell_type": "code",
   "execution_count": null,
   "id": "recent-afternoon",
   "metadata": {},
   "outputs": [],
   "source": [
    "class Solution:\n",
    "    def largestAltitude(self, gain: List[int]) -> int:\n",
    "        altitude = 0\n",
    "        highest_altitude = 0\n",
    "        \n",
    "        for i, g in enumerate(gain):\n",
    "            altitude = altitude + g\n",
    "            highest_altitude = max(highest_altitude, altitude)\n",
    "\n",
    "        return highest_altitude"
   ]
  },
  {
   "cell_type": "code",
   "execution_count": null,
   "id": "worse-shopper",
   "metadata": {},
   "outputs": [
    {
     "name": "stdout",
     "output_type": "stream",
     "text": [
      "2.28 µs ± 15.5 ns per loop (mean ± std. dev. of 7 runs, 100000 loops each)\n"
     ]
    }
   ],
   "source": [
    "%%timeit\n",
    "\n",
    "assert Solution().largestAltitude([-5,1,5,0,-7]) == 1\n",
    "assert Solution().largestAltitude([-4,-3,-2,-1,4,3,2]) == 0"
   ]
  },
  {
   "cell_type": "markdown",
   "id": "immune-sleep",
   "metadata": {},
   "source": [
    "## 1347. Minimum Number of Steps to Make Two Strings Anagram\n",
    "\n",
    "### Question\n",
    "Given two equal-size strings s and t. In one step you can choose any character of t and replace it with another character.\n",
    "\n",
    "Return the minimum number of steps to make t an anagram of s.\n",
    "\n",
    "An Anagram of a string is a string that contains the same characters with a different (or the same) ordering.\n",
    "\n",
    " \n",
    "\n",
    "Example 1:\n",
    "\n",
    "Input: s = \"bab\", t = \"aba\"\n",
    "Output: 1\n",
    "Explanation: Replace the first 'a' in t with b, t = \"bba\" which is anagram of s.\n",
    "Example 2:\n",
    "\n",
    "Input: s = \"leetcode\", t = \"practice\"\n",
    "Output: 5\n",
    "Explanation: Replace 'p', 'r', 'a', 'i' and 'c' from t with proper characters to make t anagram of s.\n",
    "Example 3:\n",
    "\n",
    "Input: s = \"anagram\", t = \"mangaar\"\n",
    "Output: 0\n",
    "Explanation: \"anagram\" and \"mangaar\" are anagrams. \n",
    "Example 4:\n",
    "\n",
    "Input: s = \"xxyyzz\", t = \"xxyyzz\"\n",
    "Output: 0\n",
    "Example 5:\n",
    "\n",
    "Input: s = \"friend\", t = \"family\"\n",
    "Output: 4\n",
    " \n",
    "\n",
    "Constraints:\n",
    "\n",
    "1 <= s.length <= 50000\n",
    "s.length == t.length\n",
    "s and t contain lower-case English letters only."
   ]
  },
  {
   "cell_type": "markdown",
   "id": "corporate-affair",
   "metadata": {},
   "source": [
    "### Answer"
   ]
  },
  {
   "cell_type": "markdown",
   "id": "athletic-cooling",
   "metadata": {},
   "source": [
    "1. Find the number of different characters in each string. (delta)\n",
    "2. Pair up the different chars and count the number of pairs sum(delta.values()) // 2"
   ]
  },
  {
   "cell_type": "code",
   "execution_count": null,
   "id": "polyphonic-survival",
   "metadata": {},
   "outputs": [],
   "source": [
    "from collections import Counter\n",
    "\n",
    "class Solution:\n",
    "    def minSteps(self, s: str, t: str) -> int:\n",
    "        c1 = Counter(s)\n",
    "        c2 = Counter(t)\n",
    "        \n",
    "        keys = set((*c1.keys(), *c2.keys()))\n",
    "        \n",
    "        delta = {k: abs(c1[k] - c2[k]) for k in keys}\n",
    "        return sum(delta.values()) // 2"
   ]
  },
  {
   "cell_type": "code",
   "execution_count": null,
   "id": "every-chair",
   "metadata": {},
   "outputs": [
    {
     "name": "stdout",
     "output_type": "stream",
     "text": [
      "22.9 µs ± 168 ns per loop (mean ± std. dev. of 7 runs, 10000 loops each)\n"
     ]
    }
   ],
   "source": [
    "%%timeit\n",
    "\n",
    "assert Solution().minSteps('bab', 'aba') == 1\n",
    "assert Solution().minSteps('leetcode', 'practice') == 5\n",
    "assert Solution().minSteps('mangaar', 'anagram') == 0\n",
    "assert Solution().minSteps('xxyyzz', 'xxyyzz') == 0\n",
    "assert Solution().minSteps('friend', 'family') == 4"
   ]
  },
  {
   "cell_type": "markdown",
   "id": "delayed-milton",
   "metadata": {},
   "source": [
    "## 767. Reorganize String\n",
    "\n",
    "### Question\n",
    "\n",
    "Given a string S, check if the letters can be rearranged so that two characters that are adjacent to each other are not the same.\n",
    "\n",
    "If possible, output any possible result.  If not possible, return the empty string.\n",
    "\n",
    "Example 1:\n",
    "\n",
    "Input: S = \"aab\"\n",
    "Output: \"aba\"\n",
    "Example 2:\n",
    "\n",
    "Input: S = \"aaab\"\n",
    "Output: \"\"\n",
    "Note:\n",
    "\n",
    "S will consist of lowercase letters and have length in range [1, 500]."
   ]
  },
  {
   "cell_type": "code",
   "execution_count": null,
   "id": "breeding-manchester",
   "metadata": {},
   "outputs": [],
   "source": [
    "class Solution:\n",
    "    def reorganizeString(self, S: str) -> str:\n",
    "        pass"
   ]
  },
  {
   "cell_type": "code",
   "execution_count": null,
   "id": "excess-morgan",
   "metadata": {},
   "outputs": [
    {
     "ename": "AssertionError",
     "evalue": "",
     "output_type": "error",
     "traceback": [
      "\u001b[0;31m---------------------------------------------------------------------------\u001b[0m",
      "\u001b[0;31mAssertionError\u001b[0m                            Traceback (most recent call last)",
      "\u001b[0;32m<ipython-input-99-3a424297b254>\u001b[0m in \u001b[0;36m<module>\u001b[0;34m\u001b[0m\n\u001b[0;32m----> 1\u001b[0;31m \u001b[0;32massert\u001b[0m \u001b[0mSolution\u001b[0m\u001b[0;34m(\u001b[0m\u001b[0;34m)\u001b[0m\u001b[0;34m.\u001b[0m\u001b[0mreorganizeString\u001b[0m\u001b[0;34m(\u001b[0m\u001b[0;34m'aab'\u001b[0m\u001b[0;34m)\u001b[0m \u001b[0;34m==\u001b[0m \u001b[0;34m'aba'\u001b[0m\u001b[0;34m\u001b[0m\u001b[0;34m\u001b[0m\u001b[0m\n\u001b[0m\u001b[1;32m      2\u001b[0m \u001b[0;32massert\u001b[0m \u001b[0mSolution\u001b[0m\u001b[0;34m(\u001b[0m\u001b[0;34m)\u001b[0m\u001b[0;34m.\u001b[0m\u001b[0mreorganizeString\u001b[0m\u001b[0;34m(\u001b[0m\u001b[0;34m'aaab'\u001b[0m\u001b[0;34m)\u001b[0m \u001b[0;34m==\u001b[0m \u001b[0;34m''\u001b[0m\u001b[0;34m\u001b[0m\u001b[0;34m\u001b[0m\u001b[0m\n",
      "\u001b[0;31mAssertionError\u001b[0m: "
     ]
    }
   ],
   "source": [
    "assert Solution().reorganizeString('aab') == 'aba'\n",
    "assert Solution().reorganizeString('aaab') == ''"
   ]
  },
  {
   "cell_type": "markdown",
   "id": "horizontal-feeling",
   "metadata": {},
   "source": [
    "# end"
   ]
  },
  {
   "cell_type": "code",
   "execution_count": null,
   "id": "basic-onion",
   "metadata": {},
   "outputs": [],
   "source": []
  }
 ],
 "metadata": {
  "kernelspec": {
   "display_name": "Python 3",
   "language": "python",
   "name": "python3"
  }
 },
 "nbformat": 4,
 "nbformat_minor": 5
}
