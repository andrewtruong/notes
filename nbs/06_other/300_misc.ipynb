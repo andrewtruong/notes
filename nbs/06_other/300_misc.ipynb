{
 "cells": [
  {
   "cell_type": "code",
   "execution_count": null,
   "metadata": {},
   "outputs": [],
   "source": [
    "# default_exp misc"
   ]
  },
  {
   "cell_type": "code",
   "execution_count": null,
   "metadata": {},
   "outputs": [],
   "source": [
    "#hide \n",
    "from nbdev.showdoc import *"
   ]
  },
  {
   "cell_type": "markdown",
   "metadata": {},
   "source": [
    "# Misc\n",
    "\n",
    "> Recipes for everything else!"
   ]
  },
  {
   "cell_type": "code",
   "execution_count": null,
   "metadata": {},
   "outputs": [],
   "source": [
    "#export\n",
    "import itertools\n",
    "from fastcore.all import typedispatch, patch\n",
    "from fastai.vision.all import *\n",
    "from collections.abc import Iterable\n",
    "from IPython.display import HTML\n",
    "from contextlib import contextmanager\n",
    "from pathlib import Path"
   ]
  },
  {
   "cell_type": "markdown",
   "metadata": {},
   "source": [
    "## Iterables"
   ]
  },
  {
   "cell_type": "code",
   "execution_count": null,
   "metadata": {},
   "outputs": [],
   "source": [
    "#export\n",
    "@typedispatch\n",
    "def chunks(lst:list, n):\n",
    "    for i in range(0, len(lst), n):\n",
    "        yield lst[i:i + n]\n",
    "        \n",
    "@typedispatch\n",
    "def chunks(iterable:Iterable, n):\n",
    "    \"\"\"\n",
    "    Modified for convenience from: https://stackoverflow.com/a/8998040\n",
    "    \"\"\"\n",
    "    it = iter(iterable)\n",
    "    while True:\n",
    "        chunk_it = itertools.islice(it, n)\n",
    "        try:\n",
    "            first_el = next(chunk_it)\n",
    "        except StopIteration:\n",
    "            return\n",
    "        yield itertools.chain((first_el,), chunk_it)\n",
    "        \n",
    "# show_doc(chunks)"
   ]
  },
  {
   "cell_type": "code",
   "execution_count": null,
   "metadata": {},
   "outputs": [],
   "source": [
    "#export\n",
    "def flatten(iterable:Iterable):\n",
    "    '''\n",
    "    From: https://stackoverflow.com/a/2158532\n",
    "    '''\n",
    "    for el in iterable:\n",
    "        if isinstance(el, Iterable) and not isinstance(el, (str, bytes)):\n",
    "            yield from flatten(el)\n",
    "        else:\n",
    "            yield el"
   ]
  },
  {
   "cell_type": "markdown",
   "metadata": {},
   "source": [
    "## Convenience functions"
   ]
  },
  {
   "cell_type": "code",
   "execution_count": null,
   "metadata": {},
   "outputs": [],
   "source": [
    "#export\n",
    "class DotDict(dict):\n",
    "    \"Enable dot access to a dictionary.  e.g. `dict.key1.key2.key3`\"\n",
    "    __getattr__ = dict.__getitem__\n",
    "    __setattr__ = dict.__setitem__\n",
    "    __delattr__ = dict.__delitem__\n",
    "\n",
    "    def __init__(self, dct):\n",
    "        for key, value in dct.items():\n",
    "            if hasattr(value, 'keys'):\n",
    "                value = DotDict(value)\n",
    "            self[key] = value"
   ]
  },
  {
   "cell_type": "code",
   "execution_count": null,
   "metadata": {},
   "outputs": [],
   "source": [
    "#export\n",
    "@contextmanager\n",
    "def suppress_stdout():\n",
    "    '''\n",
    "    Suppress any stdout in this `with` block\n",
    "    '''\n",
    "    initial_stdout = sys.stdout\n",
    "    try:\n",
    "        with open('/dev/null', 'w') as f:\n",
    "            sys.stdout = f\n",
    "            yield\n",
    "    finally:\n",
    "        sys.stdout = initial_stdout"
   ]
  },
  {
   "cell_type": "code",
   "execution_count": null,
   "metadata": {},
   "outputs": [],
   "source": [
    "#export\n",
    "class Show:\n",
    "    \"Show multiple HTML reprs in the same cell\"\n",
    "    template = \"\"\"<div style=\"float: left; padding: 10px;\">\n",
    "    <p style='font-family:\"Arial\"'>{0}</p>{1}\n",
    "    </div>\"\"\"\n",
    "\n",
    "    def __init__(self, things:dict):\n",
    "        self.things = things\n",
    "        \n",
    "    def _repr_html_(self):\n",
    "        return '\\n'.join(self.template.format(name, data._repr_html_()) for name, data in self.things.items())\n",
    "    \n",
    "    def __repr__(self):\n",
    "        return '\\n\\n'.join(name + '\\n' + repr(data) for name, data in self.things.items())"
   ]
  },
  {
   "cell_type": "code",
   "execution_count": null,
   "metadata": {},
   "outputs": [],
   "source": [
    "#export\n",
    "def coalesce(*args, default=None):\n",
    "    '''\n",
    "    Provide same function as C# and JS `??` operator\n",
    "    '''\n",
    "    return next((a for a in args if a is not None), default)"
   ]
  },
  {
   "cell_type": "markdown",
   "metadata": {},
   "source": [
    "## nbdev helpers"
   ]
  },
  {
   "cell_type": "code",
   "execution_count": null,
   "metadata": {},
   "outputs": [],
   "source": [
    "#export\n",
    "def show_plotly(fig):\n",
    "    '''\n",
    "    Render plotly figs with nbdev\n",
    "    '''\n",
    "    return HTML(fig.to_html(config={'displayModeBar': False}))"
   ]
  },
  {
   "cell_type": "markdown",
   "metadata": {},
   "source": [
    "## fastai helpers"
   ]
  },
  {
   "cell_type": "code",
   "execution_count": null,
   "metadata": {},
   "outputs": [],
   "source": [
    "#export\n",
    "class Hook():\n",
    "    def __init__(self, m):\n",
    "        self.hook = m.register_forward_hook(self.hook_func)   \n",
    "    def hook_func(self, m, i, o): self.stored = o.detach().clone()\n",
    "    def __enter__(self, *args): return self\n",
    "    def __exit__(self, *args): self.hook.remove()"
   ]
  },
  {
   "cell_type": "code",
   "execution_count": null,
   "metadata": {},
   "outputs": [],
   "source": [
    "#export\n",
    "class HookBwd():\n",
    "    def __init__(self, m):\n",
    "        self.hook = m.register_backward_hook(self.hook_func)   \n",
    "    def hook_func(self, m, gi, go): self.stored = go[0].detach().clone()\n",
    "    def __enter__(self, *args): return self\n",
    "    def __exit__(self, *args): self.hook.remove()"
   ]
  },
  {
   "cell_type": "code",
   "execution_count": null,
   "metadata": {},
   "outputs": [],
   "source": [
    "#export\n",
    "@patch\n",
    "def show_activations(self: Learner, img):\n",
    "    img = Path(img)\n",
    "    pipeline = Pipeline([PILImage.create, ToTensor, Resize(224, method='squish'), IntToFloatTensor])\n",
    "    x = pipeline(img).unsqueeze(0)\n",
    "    y, name = img.parent.name.split('-')\n",
    "    y = int(y)\n",
    "\n",
    "    with HookBwd(learner.model.body) as hookg:\n",
    "        with Hook(learner.model.body) as hook:\n",
    "            output = learner.model.eval()(x)\n",
    "            act = hook.stored\n",
    "        output[0,y].backward()\n",
    "        grad = hookg.stored\n",
    "\n",
    "\n",
    "    w = grad[0].mean(dim=[1,2], keepdim=True)\n",
    "    cam_map = (w * act[0]).sum(0)\n",
    "    \n",
    "    _,ax = plt.subplots()\n",
    "    x[0].show(ctx=ax)\n",
    "    ax.title.set_text(name)\n",
    "    ax.imshow(cam_map.detach().cpu(), alpha=0.80, extent=(0,224,224,0),\n",
    "                  interpolation='sinc', cmap='magma_r')    "
   ]
  },
  {
   "cell_type": "markdown",
   "metadata": {},
   "source": [
    "## Decorators"
   ]
  },
  {
   "cell_type": "code",
   "execution_count": null,
   "metadata": {},
   "outputs": [],
   "source": [
    "#export\n",
    "def decorate_all_methods_with(decorators):\n",
    "    '''\n",
    "    Decorate all methods of a class with a list of decorators\n",
    "    '''\n",
    "    if not isinstance(decorators, list):\n",
    "        decorators = [decorators]\n",
    "\n",
    "    def decorate(cls):\n",
    "        for attr in cls.__dict__:\n",
    "            if callable(getattr(cls, attr)):\n",
    "                for decorator in decorators:\n",
    "                    setattr(cls, attr, decorator(getattr(cls, attr)))\n",
    "        return cls\n",
    "\n",
    "    return decorate"
   ]
  },
  {
   "cell_type": "code",
   "execution_count": null,
   "metadata": {},
   "outputs": [],
   "source": [
    "#export\n",
    "def decorate_function_with(decorators):\n",
    "    '''\n",
    "    Apply a list of decorators to a function\n",
    "    '''\n",
    "    decorators = decorators if isinstance(decorators, list) else [decorators]\n",
    "\n",
    "    def decorate(func):\n",
    "        for decorator in decorators:\n",
    "            func = decorator(func)\n",
    "        return func\n",
    "\n",
    "    return decorate"
   ]
  },
  {
   "cell_type": "markdown",
   "metadata": {},
   "source": [
    "## JSON"
   ]
  },
  {
   "cell_type": "code",
   "execution_count": null,
   "metadata": {},
   "outputs": [],
   "source": [
    "#export\n",
    "def dict_generator(indict, pre=None):\n",
    "    '''\n",
    "    Recursively traverse a dictionary of unknown depth and return flat lists.\n",
    "    \n",
    "    Useful for generating API endpoint strings from JSON-like\n",
    "    '''\n",
    "    pre = pre[:] if pre else []\n",
    "    if isinstance(indict, dict):\n",
    "        for key, value in indict.items():\n",
    "            if isinstance(value, dict):\n",
    "                for d in dict_generator(value, pre + [key]):\n",
    "                    yield d\n",
    "            elif isinstance(value, list) or isinstance(value, tuple):\n",
    "                for v in value:\n",
    "                    for d in dict_generator(v, pre + [key]):\n",
    "                        yield d\n",
    "            else:\n",
    "                yield pre + [key, value]\n",
    "    else:\n",
    "        yield pre + [indict]"
   ]
  }
 ],
 "metadata": {
  "kernelspec": {
   "display_name": "Python 3.8.8 64-bit ('fastpages': conda)",
   "name": "python388jvsc74a57bd0bab989e609fa7ae72b4d90aa019d09772e35d5f7652f4e146d62cc6a7c1dbb78"
  }
 },
 "nbformat": 4,
 "nbformat_minor": 2
}
