{
 "cells": [
  {
   "cell_type": "code",
   "execution_count": null,
   "metadata": {},
   "outputs": [],
   "source": [
    "# default_exp utils"
   ]
  },
  {
   "cell_type": "code",
   "execution_count": null,
   "metadata": {},
   "outputs": [],
   "source": [
    "#hide\n",
    "from nbdev.showdoc import * "
   ]
  },
  {
   "cell_type": "markdown",
   "metadata": {},
   "source": [
    "# Utils\n",
    "> Make life easier"
   ]
  },
  {
   "cell_type": "markdown",
   "metadata": {},
   "source": [
    "## Decorators"
   ]
  },
  {
   "cell_type": "code",
   "execution_count": null,
   "metadata": {},
   "outputs": [],
   "source": [
    "#export\n",
    "def decorate_all_methods_with(decorators):\n",
    "    '''\n",
    "    Decorate all methods of a class with a list of decorators\n",
    "    '''\n",
    "    if not isinstance(decorators, list):\n",
    "        decorators = [decorators]\n",
    "\n",
    "    def decorate(cls):\n",
    "        for attr in cls.__dict__:\n",
    "            if callable(getattr(cls, attr)):\n",
    "                for decorator in decorators:\n",
    "                    setattr(cls, attr, decorator(getattr(cls, attr)))\n",
    "        return cls\n",
    "\n",
    "    return decorate"
   ]
  },
  {
   "cell_type": "code",
   "execution_count": null,
   "metadata": {},
   "outputs": [],
   "source": [
    "#export\n",
    "def decorate_function_with(decorators):\n",
    "    '''\n",
    "    Apply a list of decorators to a function\n",
    "    '''\n",
    "    decorators = decorators if isinstance(decorators, list) else [decorators]\n",
    "\n",
    "    def decorate(func):\n",
    "        for decorator in decorators:\n",
    "            func = decorator(func)\n",
    "        return func\n",
    "\n",
    "    return decorate"
   ]
  },
  {
   "cell_type": "markdown",
   "metadata": {},
   "source": [
    "## Null Handling"
   ]
  },
  {
   "cell_type": "code",
   "execution_count": null,
   "metadata": {},
   "outputs": [],
   "source": [
    "#export\n",
    "def coalesce(*args, default=None):\n",
    "    '''\n",
    "    Provide same function as C# and JS `??` operator\n",
    "    '''\n",
    "    return next((a for a in args if a is not None), default)"
   ]
  },
  {
   "cell_type": "markdown",
   "metadata": {},
   "source": [
    "## Iterators"
   ]
  },
  {
   "cell_type": "code",
   "execution_count": null,
   "metadata": {},
   "outputs": [],
   "source": [
    "#export\n",
    "from fastcore.all import typedispatch\n",
    "from nbdev.showdoc import *\n",
    "\n",
    "@typedispatch\n",
    "def func(x:int):\n",
    "    return x\n",
    "\n",
    "@typedispatch\n",
    "def func(x:float):\n",
    "    return x\n",
    "\n",
    "show_doc(func)"
   ]
  },
  {
   "cell_type": "code",
   "execution_count": null,
   "metadata": {},
   "outputs": [],
   "source": [
    "# # export\n",
    "# from fastcore.all import typedispatch\n",
    "# import itertools\n",
    "# from collections.abc import Iterable\n",
    "# from nbdev.showdoc import * \n",
    "\n",
    "# @typedispatch\n",
    "# def chunks(iterable:list, n:int=1) -> Iterable:\n",
    "#     for ix in range(0, len(iterable), n):\n",
    "#         yield iterable[ix: min(ix+n, len(iterable))]\n",
    "        \n",
    "# @typedispatch\n",
    "# def chunks(iterable:Iterable, n:int=1) -> Iterable:\n",
    "#     it = iter(iterable)\n",
    "#     while True:\n",
    "#         chunk_it = itertools.islice(it, n)\n",
    "#         try:\n",
    "#             first_el = next(chunk_it)\n",
    "#         except StopIteration:\n",
    "#             return\n",
    "#         yield itertools.chain((first_el,), chunk_it)\n",
    "        \n",
    "# show_doc(chunks)"
   ]
  },
  {
   "cell_type": "code",
   "execution_count": null,
   "metadata": {},
   "outputs": [],
   "source": [
    "# #export\n",
    "# from fastcore.all import typedispatch\n",
    "# from collections.abc import Iterable\n",
    "\n"
   ]
  },
  {
   "cell_type": "markdown",
   "metadata": {},
   "source": [
    "## JSON"
   ]
  },
  {
   "cell_type": "code",
   "execution_count": null,
   "metadata": {},
   "outputs": [],
   "source": [
    "#export\n",
    "def dict_generator(indict, pre=None):\n",
    "    '''\n",
    "    Recursively traverse a dictionary of unknown depth and return flat lists.\n",
    "    \n",
    "    Useful for generating API endpoint strings from JSON-like\n",
    "    '''\n",
    "    pre = pre[:] if pre else []\n",
    "    if isinstance(indict, dict):\n",
    "        for key, value in indict.items():\n",
    "            if isinstance(value, dict):\n",
    "                for d in dict_generator(value, pre + [key]):\n",
    "                    yield d\n",
    "            elif isinstance(value, list) or isinstance(value, tuple):\n",
    "                for v in value:\n",
    "                    for d in dict_generator(v, pre + [key]):\n",
    "                        yield d\n",
    "            else:\n",
    "                yield pre + [key, value]\n",
    "    else:\n",
    "        yield pre + [indict]"
   ]
  },
  {
   "cell_type": "markdown",
   "metadata": {},
   "source": [
    "## Misc"
   ]
  },
  {
   "cell_type": "code",
   "execution_count": null,
   "metadata": {},
   "outputs": [],
   "source": [
    "#export\n",
    "class DotDict(dict):\n",
    "    '''\n",
    "    Dot access that is not perfectly safe, but easier to work with when dealing with nested configs!\n",
    "    '''\n",
    "    __getattr__ = dict.__getitem__\n",
    "    __setattr__ = dict.__setitem__\n",
    "    __delattr__ = dict.__delitem__\n",
    "\n",
    "    def __init__(self, d):\n",
    "        for k, v in d.items():\n",
    "            if hasattr(v, \"keys\"):\n",
    "                v = DotDict(v)\n",
    "            self[k] = v"
   ]
  },
  {
   "cell_type": "code",
   "execution_count": null,
   "metadata": {},
   "outputs": [],
   "source": [
    "#export\n",
    "def load_config(config):\n",
    "    '''\n",
    "    Load a yaml config file as a `DotDict`\n",
    "    '''\n",
    "    with open(config) as f:\n",
    "        config = yaml.load(f, yaml.SafeLoader)\n",
    "        return DotDict(config)"
   ]
  }
 ],
 "metadata": {
  "kernelspec": {
   "display_name": "Python 3.8.8 64-bit ('fastpages': conda)",
   "name": "python388jvsc74a57bd0bab989e609fa7ae72b4d90aa019d09772e35d5f7652f4e146d62cc6a7c1dbb78"
  }
 },
 "nbformat": 4,
 "nbformat_minor": 2
}
