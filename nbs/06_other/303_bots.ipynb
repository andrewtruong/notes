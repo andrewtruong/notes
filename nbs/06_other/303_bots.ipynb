{
 "cells": [
  {
   "cell_type": "markdown",
   "metadata": {},
   "source": [
    "# Bots\n",
    "\n",
    "> Recipes for Bots"
   ]
  },
  {
   "cell_type": "markdown",
   "metadata": {},
   "source": [
    "## Discord\n",
    "- Using [discord.py](https://discordpy.readthedocs.io/en/stable/)"
   ]
  },
  {
   "cell_type": "markdown",
   "metadata": {},
   "source": [
    "### Cogs\n",
    "\n",
    "#### Separation of concerns\n",
    "- Separate each set of commands into its own `Cog`\n",
    "    ```python\n",
    "    import discord\n",
    "    from discord.ext import commands\n",
    "\n",
    "    class Moderation(commands.Cog):\n",
    "        def __init__(self, bot, config):\n",
    "            self.bot = bot\n",
    "            self.config = config.cogs.Moderation\n",
    "\n",
    "        @commands.command()\n",
    "        async def kick(self, ctx, member: discord.Member, reason=None):\n",
    "            '''\n",
    "            Kick a member from this server.\n",
    "\n",
    "            Example: !kick user \"toxic\"\n",
    "            '''\n",
    "            await member.kick(reason=reason)\n",
    "            await ctx.send(f'{ctx.author} kicked {member}.  Reason: {reason}')\n",
    "\n",
    "        @commands.command()\n",
    "        async def ban(self, ctx, member: discord.Member, reason=None):\n",
    "            '''\n",
    "            Ban a member from this server.\n",
    "\n",
    "            Example: !ban user \"toxic\"\n",
    "            '''\n",
    "            await member.ban(reason=reason)\n",
    "            await ctx.send(f'{ctx.author} banned {member}.  Reason: {reason}')\n",
    "    ```\n",
    "\n",
    "- Load a list of Cogs on startup\n",
    "    ```python\n",
    "    from operator import methodcaller\n",
    "\n",
    "    import discord\n",
    "    import lib.cogs\n",
    "\n",
    "    from discord.ext import commands\n",
    "    from lib.utilities import load_config, load_secrets\n",
    "\n",
    "    config = load_config('config.yml')\n",
    "    secrets = load_secrets('secrets.yml')\n",
    "\n",
    "    bot = commands.Bot(command_prefix=config.prefix)\n",
    "    for cog in config.cogs.keys():\n",
    "        cog_class = methodcaller(cog, bot=bot, config=config)(lib.cogs)\n",
    "        bot.add_cog(cog_class)\n",
    "\n",
    "    bot.run(secrets.token)\n",
    "    ```"
   ]
  },
  {
   "cell_type": "raw",
   "metadata": {},
   "source": []
  },
  {
   "cell_type": "raw",
   "metadata": {},
   "source": []
  },
  {
   "cell_type": "raw",
   "metadata": {},
   "source": []
  },
  {
   "cell_type": "raw",
   "metadata": {},
   "source": []
  },
  {
   "cell_type": "raw",
   "metadata": {},
   "source": []
  },
  {
   "cell_type": "raw",
   "metadata": {},
   "source": [
    "Separate each set of commands into its own `Cog`\n"
   ]
  },
  {
   "cell_type": "raw",
   "metadata": {},
   "source": []
  }
 ],
 "metadata": {
  "kernelspec": {
   "display_name": "Python 3.8.8 64-bit ('fastpages': conda)",
   "name": "python388jvsc74a57bd0bab989e609fa7ae72b4d90aa019d09772e35d5f7652f4e146d62cc6a7c1dbb78"
  }
 },
 "nbformat": 4,
 "nbformat_minor": 2
}
