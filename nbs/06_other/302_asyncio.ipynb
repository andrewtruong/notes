{
 "cells": [
  {
   "cell_type": "code",
   "execution_count": null,
   "metadata": {},
   "outputs": [],
   "source": [
    "# default_exp asyncio"
   ]
  },
  {
   "cell_type": "code",
   "execution_count": null,
   "metadata": {},
   "outputs": [],
   "source": [
    "#hide\n",
    "from nbdev.showdoc import *"
   ]
  },
  {
   "cell_type": "markdown",
   "metadata": {},
   "source": [
    "# Asyncio\n",
    "\n",
    "> Recipes for asyncio"
   ]
  },
  {
   "cell_type": "markdown",
   "metadata": {},
   "source": [
    "## Running `asyncio` event loop inside jupyter\n",
    "\n",
    "- Jupyter by default is already running its own event loop, so you need `nest_asyncio` to resolve this issue.\n",
    "- AFAIK, you can't use a more performant event loop like `uvloop` with this method"
   ]
  },
  {
   "cell_type": "code",
   "execution_count": null,
   "metadata": {},
   "outputs": [],
   "source": [
    "import nest_asyncio\n",
    "nest_asyncio.apply()"
   ]
  },
  {
   "cell_type": "markdown",
   "metadata": {},
   "source": [
    "## Async map a coroutine across an iterable (with progress bar)"
   ]
  },
  {
   "cell_type": "code",
   "execution_count": null,
   "metadata": {},
   "outputs": [],
   "source": [
    "#export\n",
    "import asyncio\n",
    "from tqdm.auto import tqdm\n",
    "\n",
    "async def async_map(coroutine, iterable, pool_size=2, tqdm_kwargs={}, *args, **kwargs):\n",
    "    semaphore = asyncio.Semaphore(pool_size)\n",
    "    async def sem_task(task):\n",
    "        async with semaphore:\n",
    "            return await task\n",
    "    \n",
    "    tasks = [coroutine(param, *args, **kwargs) for param in iterable]\n",
    "    \n",
    "    with tqdm(asyncio.as_completed(tasks), ncols='100%', **tqdm_kwargs) as pbar:\n",
    "        results = [await sem_task(task) for task in pbar]\n",
    "        return results"
   ]
  },
  {
   "cell_type": "markdown",
   "metadata": {},
   "source": [
    "## Trio"
   ]
  },
  {
   "cell_type": "markdown",
   "metadata": {},
   "source": []
  }
 ],
 "metadata": {},
 "nbformat": 4,
 "nbformat_minor": 2
}
