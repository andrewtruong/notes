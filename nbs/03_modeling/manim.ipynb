{
 "cells": [
  {
   "cell_type": "markdown",
   "metadata": {},
   "source": [
    "# Manim\n",
    "> Recipes for manim"
   ]
  },
  {
   "cell_type": "code",
   "execution_count": null,
   "metadata": {},
   "outputs": [
    {
     "ename": "ModuleNotFoundError",
     "evalue": "No module named 'manim'",
     "output_type": "error",
     "traceback": [
      "\u001b[0;31m---------------------------------------------------------------------------\u001b[0m",
      "\u001b[0;31mModuleNotFoundError\u001b[0m                       Traceback (most recent call last)",
      "\u001b[0;32m<ipython-input-2-6cf3d958112b>\u001b[0m in \u001b[0;36m<module>\u001b[0;34m\u001b[0m\n\u001b[1;32m      1\u001b[0m \u001b[0;32mfrom\u001b[0m \u001b[0mfastcore\u001b[0m\u001b[0;34m.\u001b[0m\u001b[0mbasics\u001b[0m \u001b[0;32mimport\u001b[0m \u001b[0mpatch\u001b[0m\u001b[0;34m\u001b[0m\u001b[0;34m\u001b[0m\u001b[0m\n\u001b[0;32m----> 2\u001b[0;31m \u001b[0;32mfrom\u001b[0m \u001b[0mmanim\u001b[0m \u001b[0;32mimport\u001b[0m \u001b[0;34m*\u001b[0m\u001b[0;34m\u001b[0m\u001b[0;34m\u001b[0m\u001b[0m\n\u001b[0m\u001b[1;32m      3\u001b[0m \u001b[0;32mimport\u001b[0m \u001b[0mnumpy\u001b[0m \u001b[0;32mas\u001b[0m \u001b[0mnp\u001b[0m\u001b[0;34m\u001b[0m\u001b[0;34m\u001b[0m\u001b[0m\n\u001b[1;32m      4\u001b[0m \u001b[0;32mfrom\u001b[0m \u001b[0mmanim\u001b[0m\u001b[0;34m.\u001b[0m\u001b[0mmobject\u001b[0m\u001b[0;34m.\u001b[0m\u001b[0mgeometry\u001b[0m \u001b[0;32mimport\u001b[0m \u001b[0;34m*\u001b[0m\u001b[0;34m\u001b[0m\u001b[0;34m\u001b[0m\u001b[0m\n\u001b[1;32m      5\u001b[0m \u001b[0;32mfrom\u001b[0m \u001b[0mmanim\u001b[0m\u001b[0;34m.\u001b[0m\u001b[0mmobject\u001b[0m \u001b[0;32mimport\u001b[0m \u001b[0mgeometry\u001b[0m\u001b[0;34m\u001b[0m\u001b[0;34m\u001b[0m\u001b[0m\n",
      "\u001b[0;31mModuleNotFoundError\u001b[0m: No module named 'manim'"
     ]
    }
   ],
   "source": [
    "from fastcore.basics import patch\n",
    "from manim import *\n",
    "import numpy as np\n",
    "from manim.mobject.geometry import *\n",
    "from manim.mobject import geometry"
   ]
  },
  {
   "cell_type": "code",
   "execution_count": null,
   "metadata": {},
   "outputs": [
    {
     "ename": "NameError",
     "evalue": "name 'Circle' is not defined",
     "output_type": "error",
     "traceback": [
      "\u001b[0;31m---------------------------------------------------------------------------\u001b[0m",
      "\u001b[0;31mNameError\u001b[0m                                 Traceback (most recent call last)",
      "\u001b[0;32m<ipython-input-1-6cec2045a59e>\u001b[0m in \u001b[0;36m<module>\u001b[0;34m\u001b[0m\n\u001b[0;32m----> 1\u001b[0;31m \u001b[0;32mdef\u001b[0m \u001b[0mintersect\u001b[0m\u001b[0;34m(\u001b[0m\u001b[0mself\u001b[0m\u001b[0;34m:\u001b[0m \u001b[0mCircle\u001b[0m\u001b[0;34m,\u001b[0m \u001b[0mobj\u001b[0m\u001b[0;34m:\u001b[0m \u001b[0mCircle\u001b[0m\u001b[0;34m,\u001b[0m \u001b[0msteps\u001b[0m\u001b[0;34m=\u001b[0m\u001b[0;36m500\u001b[0m\u001b[0;34m,\u001b[0m \u001b[0mtolerance\u001b[0m\u001b[0;34m=\u001b[0m\u001b[0;36m0.01\u001b[0m\u001b[0;34m)\u001b[0m \u001b[0;34m->\u001b[0m \u001b[0mArcPolygon\u001b[0m\u001b[0;34m:\u001b[0m\u001b[0;34m\u001b[0m\u001b[0;34m\u001b[0m\u001b[0m\n\u001b[0m\u001b[1;32m      2\u001b[0m     \u001b[0mself_points\u001b[0m \u001b[0;34m=\u001b[0m \u001b[0;34m[\u001b[0m\u001b[0mself\u001b[0m\u001b[0;34m.\u001b[0m\u001b[0mpoint_from_proportion\u001b[0m\u001b[0;34m(\u001b[0m\u001b[0mstep\u001b[0m\u001b[0;34m)\u001b[0m \u001b[0;32mfor\u001b[0m \u001b[0mstep\u001b[0m \u001b[0;32min\u001b[0m \u001b[0mnp\u001b[0m\u001b[0;34m.\u001b[0m\u001b[0mlinspace\u001b[0m\u001b[0;34m(\u001b[0m\u001b[0;36m0\u001b[0m\u001b[0;34m,\u001b[0m\u001b[0;36m1\u001b[0m\u001b[0;34m,\u001b[0m\u001b[0msteps\u001b[0m\u001b[0;34m)\u001b[0m\u001b[0;34m]\u001b[0m\u001b[0;34m\u001b[0m\u001b[0;34m\u001b[0m\u001b[0m\n\u001b[1;32m      3\u001b[0m     \u001b[0mobj_points\u001b[0m \u001b[0;34m=\u001b[0m \u001b[0;34m[\u001b[0m\u001b[0mobj\u001b[0m\u001b[0;34m.\u001b[0m\u001b[0mpoint_from_proportion\u001b[0m\u001b[0;34m(\u001b[0m\u001b[0mstep\u001b[0m\u001b[0;34m)\u001b[0m \u001b[0;32mfor\u001b[0m \u001b[0mstep\u001b[0m \u001b[0;32min\u001b[0m \u001b[0mnp\u001b[0m\u001b[0;34m.\u001b[0m\u001b[0mlinspace\u001b[0m\u001b[0;34m(\u001b[0m\u001b[0;36m0\u001b[0m\u001b[0;34m,\u001b[0m\u001b[0;36m1\u001b[0m\u001b[0;34m,\u001b[0m\u001b[0msteps\u001b[0m\u001b[0;34m)\u001b[0m\u001b[0;34m]\u001b[0m\u001b[0;34m\u001b[0m\u001b[0;34m\u001b[0m\u001b[0m\n\u001b[1;32m      4\u001b[0m \u001b[0;34m\u001b[0m\u001b[0m\n\u001b[1;32m      5\u001b[0m     \u001b[0mintersections\u001b[0m \u001b[0;34m=\u001b[0m \u001b[0;34m[\u001b[0m\u001b[0;34m]\u001b[0m\u001b[0;34m\u001b[0m\u001b[0;34m\u001b[0m\u001b[0m\n",
      "\u001b[0;31mNameError\u001b[0m: name 'Circle' is not defined"
     ]
    }
   ],
   "source": [
    "@patch\n",
    "def intersect(self: Circle, obj: Circle, steps=500, tolerance=0.01) -> ArcPolygon:\n",
    "    self_points = [self.point_from_proportion(step) for step in np.linspace(0,1,steps)]\n",
    "    obj_points = [obj.point_from_proportion(step) for step in np.linspace(0,1,steps)]\n",
    "    \n",
    "    intersections = []\n",
    "    for a in self_points:\n",
    "        for b in obj_points:\n",
    "            if np.linalg.norm(a-b) < tolerance:\n",
    "                avg = (a+b)/2\n",
    "                intersections.append(avg)\n",
    "    \n",
    "    return ArcPolygon(*intersections, radius=1, fill_opacity=0.5, color=PURPLE_A)"
   ]
  },
  {
   "cell_type": "code",
   "execution_count": null,
   "metadata": {},
   "outputs": [],
   "source": [
    "%%manim IntersectionDemo\n",
    "\n",
    "class IntersectionDemo(Scene):\n",
    "    def construct(self):\n",
    "        A = Circle(RED, fill_opacity=0.5, radius=2).shift(LEFT*2)\n",
    "        B = Circle(BLUE, fill_opacity=0.5).shift(RIGHT*2)\n",
    "#         intersection = Cutout(A, B)\n",
    "        self.play(ShowCreation(A), ShowCreation(B))\n",
    "        self.wait(1)\n",
    "        \n",
    "        self.play(A.animate.shift(RIGHT), B.animate.shift(LEFT))\n",
    "        intersection2 = Cutout(A,B, color=GREEN)\n",
    "        self.play(ShowCreation(intersection2))"
   ]
  },
  {
   "cell_type": "code",
   "execution_count": null,
   "metadata": {},
   "outputs": [],
   "source": [
    "%%manim IntersectionDemo\n",
    "\n",
    "class IntersectionDemo(Scene):\n",
    "    def construct(self):\n",
    "        A = Circle(RED, fill_opacity=0.5, radius=2).shift(LEFT*2)\n",
    "        B = Circle(BLUE, fill_opacity=0.5).shift(RIGHT*2)\n",
    "        intersection = A.intersect(B)\n",
    "        self.play(ShowCreation(A), ShowCreation(B), ShowCreation(intersection))\n",
    "        self.wait(1)\n",
    "        \n",
    "        A2 = Circle(RED, fill_opacity=0.5, radius=2).shift(LEFT*0.5)\n",
    "        B2 = Circle(BLUE, fill_opacity=0.5).shift(RIGHT*0.5)\n",
    "        intersection2 = A2.intersect(B2)\n",
    "        self.play(Transform(A,A2), Transform(B,B2), Transform(intersection, intersection2))\n",
    "        self.wait(1)"
   ]
  },
  {
   "cell_type": "code",
   "execution_count": null,
   "metadata": {},
   "outputs": [],
   "source": [
    "%%manim IntersectionDemo\n",
    "\n",
    "class IntersectionDemo(Scene):\n",
    "    def get_intersections(self, A, B, tolerance=0.01, steps=500):\n",
    "        A_points = [A.point_from_proportion(step) for step in np.linspace(0,1,steps)]\n",
    "        B_points = [B.point_from_proportion(step) for step in np.linspace(0,1,steps)]\n",
    "\n",
    "        intersections = []\n",
    "        for a in A_points:\n",
    "            for b in B_points:\n",
    "                if np.linalg.norm(a-b) < tolerance:\n",
    "                    avg = (a+b)/2\n",
    "                    intersections.append(avg)\n",
    "\n",
    "        return intersections\n",
    "    \n",
    "    def intersect(self, A, B):\n",
    "        intersections = self.get_intersections(A,B)\n",
    "        return ArcPolygon(*intersections, radius=1, fill_opacity=0.5, color=PURPLE_A)\n",
    "    \n",
    "    def construct(self):\n",
    "        with register_font('JetBrainsMono-Regular.ttf'):\n",
    "            text = Text('Hello World', font='JetBrainsMono').shift(UP*2)\n",
    "        self.play(Write(text))\n",
    "        A = Circle(RED, fill_opacity=0.5).shift(LEFT*2)\n",
    "        B = Circle(BLUE, fill_opacity=0.5).shift(RIGHT*2)\n",
    "        intersection = self.intersect(A,B)\n",
    "        self.play(ShowCreation(A), ShowCreation(B), ShowCreation(intersection))\n",
    "        self.wait(1)\n",
    "        \n",
    "        A2 = Circle(RED, fill_opacity=0.5).shift(LEFT*0.5)\n",
    "        B2 = Circle(BLUE, fill_opacity=0.5).shift(RIGHT*0.5)\n",
    "        intersection2 = self.intersect(A2,B2)\n",
    "        self.play(Transform(A,A2), Transform(B,B2), Transform(intersection, intersection2))\n",
    "        self.wait(1)"
   ]
  },
  {
   "cell_type": "code",
   "execution_count": null,
   "metadata": {},
   "outputs": [],
   "source": [
    "%%manim IntersectionDemo -qm -v WARNING\n",
    "\n",
    "class IntersectionDemo(Scene):    \n",
    "    def construct(self):\n",
    "        with register_font('JetBrainsMono-Regular.ttf'):\n",
    "            text = Text('Hello World', font='JetBrainsMono').shift(UP*2)\n",
    "        self.play(Write(text))\n",
    "        A = Circle(RED, fill_opacity=0.5).shift(LEFT*2)\n",
    "        B = Circle(BLUE, fill_opacity=0.5).shift(RIGHT*2)\n",
    "        self.play(ShowCreation(A), ShowCreation(B))\n",
    "        self.play(A.animate.shift(RIGHT*1.5), B.animate.shift(LEFT*1.5))\n",
    "        self.wait(1)"
   ]
  },
  {
   "cell_type": "code",
   "execution_count": null,
   "metadata": {},
   "outputs": [],
   "source": [
    "%%manim IntersectionDemo\n",
    "\n",
    "class IntersectionDemo(Scene):    \n",
    "    def construct(self):\n",
    "        s1 = Square().scale(2.5)\n",
    "        s2 = Triangle().shift(DOWN + RIGHT).scale(0.5)\n",
    "        s3 = Square().shift(UP + RIGHT).scale(0.5)\n",
    "        s4 = RegularPolygon(5).shift(DOWN + LEFT).scale(0.5)\n",
    "        s5 = RegularPolygon(6).shift(UP + LEFT).scale(0.5)\n",
    "        c = Cutout(s1, s2, s3, s4, s5, fill_opacity=1, color=BLUE, stroke_color=RED)\n",
    "        self.play(Write(c), run_time=4)"
   ]
  },
  {
   "cell_type": "code",
   "execution_count": null,
   "metadata": {},
   "outputs": [],
   "source": [
    "%%manim IntersectionDemo -qm -v WARNING\n",
    "\n",
    "class IntersectionDemo(Scene):    \n",
    "    def construct(self):\n",
    "        s = Vector()\n",
    "        \n",
    "        self.play(Write(s))"
   ]
  },
  {
   "cell_type": "code",
   "execution_count": null,
   "metadata": {},
   "outputs": [],
   "source": [
    "%%manim IntersectionDemo -qm -v WARNING\n",
    "\n",
    "class IntersectionDemo(Scene):    \n",
    "    def construct(self):\n",
    "        s = Vector()\n",
    "        \n",
    "        self.play(Write(s))"
   ]
  },
  {
   "cell_type": "code",
   "execution_count": null,
   "metadata": {},
   "outputs": [],
   "source": []
  }
 ],
 "metadata": {
  "kernelspec": {
   "display_name": "Python 3.8.8 64-bit ('fastpages': conda)",
   "name": "python388jvsc74a57bd0bab989e609fa7ae72b4d90aa019d09772e35d5f7652f4e146d62cc6a7c1dbb78"
  }
 },
 "nbformat": 4,
 "nbformat_minor": 2
}
