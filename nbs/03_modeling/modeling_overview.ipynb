{
 "cells": [
  {
   "cell_type": "markdown",
   "metadata": {},
   "source": [
    "# Modeling Overview\n",
    "> Recipes for models"
   ]
  },
  {
   "cell_type": "markdown",
   "metadata": {},
   "source": [
    "Recommended model to start with depends on type of data"
   ]
  },
  {
   "cell_type": "markdown",
   "metadata": {},
   "source": [
    "## Image-like\n",
    "Start with:\n",
    "- ResNet (CNN)\n",
    "\n",
    "Then consider:\n",
    "- Transformer"
   ]
  },
  {
   "cell_type": "markdown",
   "metadata": {},
   "source": [
    "## Sequence-like\n",
    "Start with:\n",
    "- Transformer (or RNN-like)\n",
    "\n",
    "Then consider:\n",
    "- Dilated attention models"
   ]
  },
  {
   "cell_type": "markdown",
   "metadata": {},
   "source": [
    "## Tabular\n",
    "Start with:\n",
    "- LightGBM\n",
    "\n",
    "Then consider:\n",
    "- Make feature embeddings + 2 layer FC network"
   ]
  },
  {
   "cell_type": "markdown",
   "metadata": {},
   "source": [
    "## Combination of above\n",
    "- Build each unit separately, then ensemble with 2 layer FC network"
   ]
  },
  {
   "cell_type": "markdown",
   "metadata": {},
   "source": [
    "## Other hyperparameters\n",
    "\n",
    "- Adam Optimizer with variable LR (see fastai `lrfind`)\n",
    "- ReLU and Kaiming init for most models\n",
    "- Disable regularization (including dropout)"
   ]
  }
 ],
 "metadata": {
  "kernelspec": {
   "display_name": "Python 3.8.8 64-bit ('fastpages': conda)",
   "name": "python388jvsc74a57bd0bab989e609fa7ae72b4d90aa019d09772e35d5f7652f4e146d62cc6a7c1dbb78"
  }
 },
 "nbformat": 4,
 "nbformat_minor": 2
}
