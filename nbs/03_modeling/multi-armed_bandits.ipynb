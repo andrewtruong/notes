{
 "cells": [
  {
   "cell_type": "markdown",
   "metadata": {},
   "source": [
    "# Multi-Armed Bandits\n",
    "\n",
    "> Recipes for Multi-Armed Bandits"
   ]
  },
  {
   "cell_type": "markdown",
   "metadata": {},
   "source": [
    "## Etymology\n",
    "- Historically based on slot machines, which used to be called bandits\n",
    "- Different slot machines have different payout distributions, but you don't know what those distributions initially\n",
    "- How do you pick the most profitable slot machine?"
   ]
  },
  {
   "cell_type": "markdown",
   "metadata": {},
   "source": [
    "## $\\epsilon$-First Method (A/B Testing)"
   ]
  },
  {
   "cell_type": "code",
   "execution_count": null,
   "metadata": {},
   "outputs": [
    {
     "data": {
      "text/html": "<script>\n    MathJax.Hub.Config({\n        displayAlign: 'left'\n    });\n</script>",
      "text/plain": "<IPython.core.display.HTML object>"
     },
     "execution_count": null,
     "metadata": {},
     "output_type": "execute_result"
    }
   ],
   "source": [
    "from IPython.core.display import HTML\n",
    "\n",
    "HTML(\"\"\"<script>\n",
    "    MathJax.Hub.Config({\n",
    "        displayAlign: 'left'\n",
    "    });\n",
    "</script>\"\"\")"
   ]
  },
  {
   "cell_type": "markdown",
   "metadata": {},
   "source": [
    "## $\\epsilon$-Greedy Method\n",
    "\n",
    "$$\n",
    "A \\larr\n",
    "\\begin{cases}\n",
    "    \\argmax_a Q(a)         & \\text{with probability } 1-\\epsilon\\\\\n",
    "    \\text{a random action} & \\text{with probability } \\epsilon\n",
    "\\end{cases}\n",
    "\\\\ R \\larr do(A)\n",
    "\\\\ N(A) \\larr N(A) + 1\n",
    "\\\\ Q(A) \\larr Q(A) + \\frac{1}{N(A)}[R-Q(A)]\n",
    "$$"
   ]
  },
  {
   "cell_type": "markdown",
   "metadata": {},
   "source": [
    "## UCB Method"
   ]
  },
  {
   "cell_type": "markdown",
   "metadata": {},
   "source": [
    "## Thompson Sampling"
   ]
  }
 ],
 "metadata": {},
 "nbformat": 4,
 "nbformat_minor": 2
}
