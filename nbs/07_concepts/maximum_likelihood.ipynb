{
 "cells": [
  {
   "cell_type": "markdown",
   "metadata": {},
   "source": [
    "# Maximum Likelihood\n",
    "> Examples"
   ]
  },
  {
   "cell_type": "markdown",
   "metadata": {},
   "source": [
    "## Logistic Regression\n",
    "\n",
    "$ ln(\\frac{p}{1-p})=\\beta_0 + \\beta_1x_1 + ... + \\beta_px_p  $\n",
    "\n",
    "Alternatively:\n",
    "\n",
    "$LOGIT(p) = \\beta^Tx"
   ]
  }
 ],
 "metadata": {},
 "nbformat": 4,
 "nbformat_minor": 2
}
