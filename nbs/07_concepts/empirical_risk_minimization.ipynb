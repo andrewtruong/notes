{
 "cells": [
  {
   "cell_type": "markdown",
   "metadata": {},
   "source": [
    "# Empirical Risk Minimization\n",
    "> Notes"
   ]
  },
  {
   "cell_type": "markdown",
   "metadata": {},
   "source": [
    "Empirical Risk Minimization = Minimize loss L as measured (empirically) on the data.\n",
    "\n",
    "$$\n",
    "\\min_{w,b} \\sum_{i=1}^m L(f_{w,b}(x^{(i)}), y^(i))\n",
    "$$\n",
    "\n",
    "i.e. find parameters `w,b` that optimize this function.\n",
    "\n",
    "Generally in regression, we have:\n",
    "\n",
    "$$\n",
    "\n",
    "$$\n",
    "\n",
    "And in classification, we have:\n",
    "\n",
    "$$\n",
    "(s(y))_j = \\frac{e^{y_j}}{\\sum_i e^{y_i}} \\\\\n",
    "D(s,l) = -\\sum_i l_i \\log s_i\n",
    "$$"
   ]
  }
 ],
 "metadata": {
  "kernelspec": {
   "display_name": "Python 3.8.8 64-bit ('fastpages': conda)",
   "name": "python388jvsc74a57bd0bab989e609fa7ae72b4d90aa019d09772e35d5f7652f4e146d62cc6a7c1dbb78"
  }
 },
 "nbformat": 4,
 "nbformat_minor": 2
}
