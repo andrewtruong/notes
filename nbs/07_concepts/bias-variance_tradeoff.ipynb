{
 "cells": [
  {
   "cell_type": "markdown",
   "metadata": {},
   "source": [
    "# Bias-Variance Tradeoff\n",
    "> Example with code"
   ]
  },
  {
   "cell_type": "markdown",
   "metadata": {},
   "source": [
    "## Preface\n",
    "- It's tempting to think that \"bias\" refers to the feature selection process.  It does not.\n",
    "- Bias is how bad your model $E(T)$ is at predicting the true value of a parameter $\\theta$.  (i.e. $E(T)=\\theta+bias(\\theta)$, and if $bias(\\theta)=0$, then $E(T)=\\theta$ -- you have an unbiased model)\n",
    "- Sometimes having bias is good.  In machine learning, having a little bias can significantly reduce variance."
   ]
  },
  {
   "cell_type": "markdown",
   "metadata": {},
   "source": [
    "## High Bias, Low Variance Models\n",
    "- You have a procedure to generate models.  This procedure builds simple models with few features.\n",
    "- You chose those few features.  Why not other features?  (it's tempting to think this is \"bias\", but it's not.  Bias how bad your model is at predicting the actual value -- i.e.)\n",
    "- Since there are few features, changes to the dataset will have limited effects on the parameters of the model -- different models built using this procedure will look similar (low variance)\n",
    "- Your model may not have enough parameters to learn the real underlying relationships (high bias, underfitting)"
   ]
  },
  {
   "cell_type": "markdown",
   "metadata": {},
   "source": [
    "## Low Bias, High Variance Models\n",
    "- This represents most machine learning models today.\n",
    "- You have a procedure to generate models.  This procedure builds complex models with many features.\n",
    "- You did not choose any features.  Just throw everything in (low bias)\n",
    "- Since there are many features, changes to the dataset can have large effects on the parameters of the model -- different models built using this procedure may look very different (high variance)\n",
    "- Your model may also learn noise that only exists in the training data, but not the real world (overfitting)"
   ]
  }
 ],
 "metadata": {},
 "nbformat": 4,
 "nbformat_minor": 2
}
