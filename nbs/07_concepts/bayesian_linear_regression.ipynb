{
 "cells": [
  {
   "cell_type": "markdown",
   "metadata": {},
   "source": [
    "# Bayesian Linear Regression\n",
    "> Example"
   ]
  },
  {
   "cell_type": "markdown",
   "metadata": {},
   "source": [
    "## Linear Regression\n",
    "\n",
    "### Typical framing\n",
    "1. $y = X\\beta + \\epsilon$  -- Target = data * params + error\n",
    "\n",
    "2. $\\epsilon_i ~ \\mathcal{N}(0, \\sigma^2)$  --  Error is a noise function centered on 0\n",
    "\n",
    "3. $y_i ~ \\mathcal{N}(\\beta^Tx_i, \\sigma^2$\n",
    "\n",
    "\n",
    "### Regularization\n",
    "- Added because $\\hat{\\beta}$ for ML tends to have high variance, so small change in $x$ results in large change in $\\beta$ (bad)\n",
    "\n",
    "- $\\text{LASSO: } \\hat{\\beta}_{L1} = \\argmin_\\beta[\\lVert {y-X\\beta}_2^2 \\rVert + \\lambda \\lVert \\beta \\rVert_1]$\n",
    "\n",
    "- $\\text{RIDGE: } \\hat{\\beta}_{L2} = \\argmin_\\beta[\\lVert {y-X\\beta}_2^2 \\rVert + \\lambda \\lVert \\beta \\rVert_2^2]$"
   ]
  },
  {
   "cell_type": "raw",
   "metadata": {},
   "source": [
    "But where did regularization come from?"
   ]
  },
  {
   "cell_type": "markdown",
   "metadata": {},
   "source": [
    "## Bayesian Approach"
   ]
  },
  {
   "cell_type": "markdown",
   "metadata": {},
   "source": [
    "### Create a MAP estimate\n",
    "\n",
    "$$\n",
    "\\hat{\\beta}_{MAP} = \\argmax_\\beta[P(\\beta|y)] = \\argmax_\\beta[\\frac{P(y|\\beta)P(\\beta)}{P(y)}] = \\argmax_\\beta[P(y|\\beta)P(\\beta)]\n",
    "$$"
   ]
  },
  {
   "cell_type": "markdown",
   "metadata": {},
   "source": [
    "### Rearrange to matrix form\n",
    "\n",
    "- $y_i ~ \\mathcal{N}(\\beta^Tx_i, \\sigma^2)$\n",
    "\n",
    "- $P(y|\\beta) = \\prod_{i=1}^N{\\frac{1}{\\sigma\\sqrt{2\\pi}}e}$"
   ]
  },
  {
   "cell_type": "markdown",
   "metadata": {},
   "source": [
    "### Choose a Gaussian Prior -- Get L2 Norm\n",
    "\n",
    "$\\argmin_\\beta[\\lVert y-X\\beta \\rVert_2^2 + \\frac{\\sigma^2}{\\tau^2} \\lVert \\beta \\rVert_2^2]$\n",
    "\n",
    "Substitute $\\lambda = \\frac{\\sigma^2}{\\tau^2}$:\n",
    "\n",
    "$\\argmin_\\beta[\\lVert y-X\\beta \\rVert_2^2 + \\lambda \\lVert \\beta \\rVert_2^2] = \\hat{\\beta}_{L2}$"
   ]
  },
  {
   "cell_type": "markdown",
   "metadata": {},
   "source": [
    "### Choose a Laplacian Prior -- Get L1 Norm"
   ]
  }
 ],
 "metadata": {},
 "nbformat": 4,
 "nbformat_minor": 2
}
