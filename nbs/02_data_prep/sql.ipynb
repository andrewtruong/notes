{
 "cells": [
  {
   "cell_type": "markdown",
   "metadata": {},
   "source": [
    "# SQL\n",
    "\n",
    "> Recipes for SQL"
   ]
  },
  {
   "cell_type": "markdown",
   "metadata": {},
   "source": [
    "## Basics\n",
    "- For basics on how to run 90% of queries, see the [Mode Analytics guide for Basic and Intermediate SQL](https://mode.com/sql-tutorial/introduction-to-sql/)."
   ]
  },
  {
   "cell_type": "markdown",
   "metadata": {},
   "source": [
    "## Tips\n",
    "- Materialize small chunks of tables (e.g. `LIMIT 1000`) to test queries on.  This prevents you from wasting resources and potentially locking the database.\n",
    "- Write queries in logical pieces.  Think about what the joins represent, what you're selecting, and use CTEs for logical grouping.\n",
    "- Use comments sparingly.  The code should read like prose.\n",
    "  - The risk of using comments is that they don't automatically update when you update the code.  If that happens, the comment may have nothing to do with the code and you may get confused."
   ]
  },
  {
   "cell_type": "markdown",
   "metadata": {},
   "source": [
    "## Window Functions\n",
    "- Commonly used when a query requires a \"window\" (group) of adjacent rows (e.g. rolling stats, running stats, previous/subsequent events, etc.)\n",
    "- Similar to `GROUP BY`, but aggregation happens only for adjacent rows instead of the entire window.\n",
    "- Can provide `GROUP BY` behaviour within the window using `PARTITION BY`\n",
    "- Ordering is not required if the table is guaranteed to be ordered.  [Ordering an ordered table may cause performance issues.](https://sqlsunday.com/2021/02/15/is-a-sort-faster-when-data-already-sorted/)\n",
    "- If using the same window repeatedly, some dialect allow for alises via `WINDOW {name} AS`  (example in [rolling_window_statistics](#rolling_window_statistics))\n",
    "- Some examples provided below:"
   ]
  },
  {
   "cell_type": "markdown",
   "metadata": {},
   "source": [
    "### Rolling stats\n",
    "- Example with [Bollinger Bands](https://en.wikipedia.org/wiki/Bollinger_Bands) where $N=20, K=2$\n",
    "    ```sql\n",
    "    with stats as (\n",
    "        select\n",
    "            date_time\n",
    "            , ticker\n",
    "            , avg(price)    over sma20_window as SMA20     \n",
    "            , stddev(price) over sma20_window as STD20  \n",
    "        from stock_prices\n",
    "        window sma20_window as (\n",
    "            partition by ticker\n",
    "            order by date_time\n",
    "            rows between 19 preceding and current row\n",
    "        )\n",
    "    )\n",
    "\n",
    "    select\n",
    "        date_time\n",
    "        , ticker\n",
    "        , SMA20\n",
    "        , SMA20 + 2*STD20 as BB20_2_UPPER\n",
    "        , SMA20 - 2*STD20 as BB20_2_LOWER\n",
    "    from stats\n",
    "    ```\n",
    "\n",
    "- Alternatively, without `WINDOW AS`:\n",
    "    ```sql\n",
    "    with stats as (\n",
    "        select\n",
    "            date_time\n",
    "            , ticker\n",
    "            , avg(price) over (      \n",
    "                partition by ticker\n",
    "                order by date_time\n",
    "                rows between 19 preceding and current row) as SMA20\n",
    "            , stddev(price) over (\n",
    "                partition by ticker\n",
    "                order by date_time\n",
    "                rows between 19 preceding and current row) as STD20_2\n",
    "        from stock_prices\n",
    "    )\n",
    "\n",
    "    select\n",
    "        date_time\n",
    "        , ticker\n",
    "        , SMA20\n",
    "        , SMA20 + 2*STD20 as BB20_2_UPPER\n",
    "        , SMA20 - 2*STD20 as BB20_2_LOWER\n",
    "    from stats\n",
    "    ```"
   ]
  },
  {
   "cell_type": "markdown",
   "metadata": {},
   "source": [
    "### Running stats\n",
    "- Specifying rows between `unbounded` gets all preceding rows\n",
    "    ```sql\n",
    "    select\n",
    "        date_time\n",
    "        , store\n",
    "        , sum(sales) over stores_alltime as cumulative_sales   \n",
    "    from store_sales\n",
    "    window stores_alltime as (\n",
    "        partition by store\n",
    "        order by date_time\n",
    "        rows between unbounded preceding and current row\n",
    "    )\n",
    "    ```"
   ]
  },
  {
   "cell_type": "markdown",
   "metadata": {},
   "source": [
    "### Previous or subsequent events\n",
    "- Use `LAG(col, n)` or `LEAD(col, n)` to move backwards or forwards by `n` rows\n",
    "- Previous events:\n",
    "    ```sql\n",
    "    select\n",
    "        date_time\n",
    "        , lag(sales, 1) -- sales from the previous row\n",
    "    from store_sales\n",
    "    ```\n",
    "\n",
    "- Subsequent events:\n",
    "    ```sql\n",
    "    select\n",
    "        date_time\n",
    "        , lead(sales, 1) -- sales from the subsequent row\n",
    "    from store_sales\n",
    "    ```"
   ]
  },
  {
   "cell_type": "markdown",
   "metadata": {},
   "source": [
    "### Ranking\n",
    "\n",
    "- Use `RANK()` and `DENSE_RANK()` for ranking.  If two values are the same, they will have the same rank.\n",
    "  - For `RANK()`: Ties are the same, but next rankings are skipped (e.g. if 3 items tied at rank 2, then next rank is 5)\n",
    "  - For `DENSE_RANK()`: Ties are the same, and next rankings are not skipped (e.g. if 3 items tied at rank 2, then next rank is 3)\n",
    "    ```sql\n",
    "    select\n",
    "        quarter\n",
    "        , salesperson\n",
    "        , rank()       over quarterly as rank\n",
    "        , dense_rank() over quarterly as dense_rank\n",
    "    from sales\n",
    "    window quarterly as (partition by quarter order by sum_sales)\n",
    "    ```\n"
   ]
  },
  {
   "cell_type": "markdown",
   "metadata": {},
   "source": [
    "### Percentiles\n",
    "- Use `NTILE(k)` to break data into `k` partitions.  The return value is the partition that row belongs to.\n",
    "    ```sql\n",
    "    select\n",
    "        quarter\n",
    "        , salesperson\n",
    "        , ntile(100) over (partition by quarter order by sum_sales) as percentile\n",
    "    from sales\n",
    "    ```"
   ]
  },
  {
   "cell_type": "markdown",
   "metadata": {},
   "source": [
    "## Subqueries and CTEs\n",
    "- Sometimes it's easier to write (and later read) your query as multiple stages\n",
    "- Performance in modern SQL dialects should be the same for CTEs vs subqueries\n",
    "    - For older dialects, you may run into an [optimization fence](https://www.2ndquadrant.com/en/blog/postgresql-ctes-are-optimization-fences/)\n",
    "\n",
    "- Without CTE:\n",
    "    ```sql\n",
    "    select *\n",
    "    from (\n",
    "        select *\n",
    "        from tbl\n",
    "    )\n",
    "    group by def\n",
    "    ```\n",
    "    \n",
    "- With CTE:\n",
    "    ```sql\n",
    "    with xyz as (\n",
    "        select *\n",
    "        from tbl\n",
    "    )\n",
    "\n",
    "    select *\n",
    "    from xyz\n",
    "    group by def\n",
    "    ```"
   ]
  },
  {
   "cell_type": "markdown",
   "metadata": {},
   "source": [
    "## Query Optimization\n",
    "\n",
    "### Minimizing Join Cost\n",
    "- Filter all component tables as much as possible before attempting a join.  You can use CTEs for readability and organization.\n",
    "    ```sql\n",
    "    with table1_filtered as (\n",
    "        select a,b,c\n",
    "        from table1\n",
    "        where condition1\n",
    "        limit 10000\n",
    "    )\n",
    "\n",
    "    , table2_filtered as (\n",
    "        select c,d,e\n",
    "        from table2\n",
    "        where condition2 and condition3\n",
    "    )\n",
    "\n",
    "    select t1.a, t1.b, t1.c, t2.d, t2.e\n",
    "    from table1_filtered t1\n",
    "    left join table2_filtered t2 on t1.c == t2.c\n",
    "    ```\n",
    "\n",
    "### EXPLAIN ANALYZE\n",
    "- Returns the query plan and estimated cost for each step\n",
    "- If you think you can find a better plan than the optimizer, you can force a specific plan using the Query Store (or `pg_stat_statements`)\n",
    "\n",
    "### INDEX\n",
    "- By default, a clustered index is created on the primary key of a table.\n",
    "- A custom clustered index can speed up queries, but slow down inserts.  For analytics DBs in general, faster queries are better.\n",
    "\n",
    "### MATERIALIZE (VIEW)\n",
    "- View: From a set of source tables, create an imaginary table that can be computed when requried\n",
    "- Materialized View: Store the intermediate steps in memory to make viewing the table faster (useful for analytical tables)\n",
    "- "
   ]
  },
  {
   "cell_type": "markdown",
   "metadata": {},
   "source": [
    "## PIVOTs\n",
    "\n",
    "- Personally, I find pivots in SQL to be very ugly.  Try pivoting in another tool if possible (e.g. Spark, Pandas, etc.)\n",
    "- Reference here: https://mode.com/sql-tutorial/sql-pivot-table/"
   ]
  }
 ],
 "metadata": {},
 "nbformat": 4,
 "nbformat_minor": 2
}
