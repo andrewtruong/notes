{
 "cells": [
  {
   "cell_type": "markdown",
   "metadata": {},
   "source": [
    "# Data Pipelines\n",
    "> Recipes for Data Pipelines"
   ]
  },
  {
   "cell_type": "markdown",
   "metadata": {},
   "source": [
    "## DAG Tools"
   ]
  },
  {
   "cell_type": "markdown",
   "metadata": {},
   "source": [
    "### Dagster"
   ]
  },
  {
   "cell_type": "markdown",
   "metadata": {},
   "source": [
    "### Prefect\n",
    "- Built-in tasks library is pretty good\n",
    "- You can define custom tasks by inheriting from `Task`"
   ]
  },
  {
   "cell_type": "code",
   "execution_count": null,
   "metadata": {},
   "outputs": [],
   "source": [
    "from prefect import task, Flow, Parameter\n",
    "import pandas as pd\n",
    "import numpy as np"
   ]
  },
  {
   "cell_type": "code",
   "execution_count": null,
   "metadata": {},
   "outputs": [],
   "source": [
    "@task\n",
    "def get_csv(f:str) -> pd.DataFrame:\n",
    "    return pd.read_csv(f)\n",
    "\n",
    "@task\n",
    "def transform_cols(df:pd.DataFrame) -> pd.DataFrame:\n",
    "    numeric_cols = df[df.columns[df.dtypes.isin([np.integer, np.floating])]]\n",
    "    for col in numeric_cols:\n",
    "        df[col] = df[col] + 1000\n",
    "    \n",
    "    return df\n",
    "\n",
    "\n",
    "    "
   ]
  },
  {
   "cell_type": "code",
   "execution_count": null,
   "metadata": {},
   "outputs": [
    {
     "name": "stdout",
     "output_type": "stream",
     "text": [
      "<Task: transform_cols>\n"
     ]
    }
   ],
   "source": [
    "with Flow('a flow') as flow:\n",
    "    filename = Parameter('filename')\n",
    "    x = get_csv(filename)\n",
    "    x = transform_cols(x)\n",
    "    \n",
    "    \n",
    "flow.run(filename='https://raw.githubusercontent.com/tidyverse/ggplot2/master/data-raw/diamonds.csv')"
   ]
  },
  {
   "cell_type": "markdown",
   "metadata": {},
   "source": [
    "## Data Validation"
   ]
  },
  {
   "cell_type": "markdown",
   "metadata": {},
   "source": [
    "### Great Expectations"
   ]
  },
  {
   "cell_type": "markdown",
   "metadata": {},
   "source": [
    "## Parameterized Notebooks"
   ]
  },
  {
   "cell_type": "markdown",
   "metadata": {},
   "source": [
    "### Papermill"
   ]
  },
  {
   "cell_type": "code",
   "execution_count": null,
   "metadata": {},
   "outputs": [],
   "source": []
  }
 ],
 "metadata": {},
 "nbformat": 4,
 "nbformat_minor": 2
}
