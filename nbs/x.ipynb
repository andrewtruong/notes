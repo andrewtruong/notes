{
 "cells": [
  {
   "cell_type": "code",
   "execution_count": null,
   "metadata": {},
   "outputs": [],
   "source": [
    "#hides \n",
    "from notes.core import *  "
   ]
  },
  {
   "cell_type": "markdown",
   "metadata": {},
   "source": [
    "# Notes and Code\n",
    "\n",
    "> Collection of notes and recipes"
   ]
  },
  {
   "cell_type": "markdown",
   "metadata": {},
   "source": [
    "For errors: please send a note including the page, error, and correction to `corrections@andrewtruong.com`\n",
    "  \n",
    "Thanks!"
   ]
  }
 ],
 "metadata": {
  "kernelspec": {
   "display_name": "Python 3.8.8 64-bit ('fastpages': conda)",
   "name": "python388jvsc74a57bd0bab989e609fa7ae72b4d90aa019d09772e35d5f7652f4e146d62cc6a7c1dbb78"
  }
 },
 "nbformat": 4,
 "nbformat_minor": 2
}
